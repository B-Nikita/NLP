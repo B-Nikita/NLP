{
 "cells": [
  {
   "cell_type": "code",
   "execution_count": 3,
   "metadata": {},
   "outputs": [],
   "source": [
    "# Example of a simple regular expression based NLP chunker.\n",
    "import nltk\n",
    "from nltk.tokenize import word_tokenize\n",
    "from nltk.tokenize import RegexpTokenizer\n",
    "import os\n",
    "#This ghost file is library for rendering parse tree which you need to install manually\n",
    "path_to_gs='C:\\\\Program Files\\\\gs\\\\gs9.52\\\\bin'\n",
    "os.environ['PATH']+=os.pathsep+path_to_gs"
   ]
  },
  {
   "cell_type": "code",
   "execution_count": 7,
   "metadata": {},
   "outputs": [
    {
     "data": {
      "image/png": "[encoded data removed]",
      "text/plain": [
       "Tree('S', [Tree('NP', [('The', 'DT'), ('little', 'JJ'), ('mouse', 'NN')]), ('ate', 'VB'), Tree('NP', [('the', 'DT'), ('fresh', 'JJ'), ('cheese', 'NN')])])"
      ]
     },
     "execution_count": 7,
     "metadata": {},
     "output_type": "execute_result"
    }
   ],
   "source": [
    "sent='The little mouse ate the fresh cheese'\n",
    "sent_tokens=nltk.pos_tag(word_tokenize(sent))\n",
    "grammar_np=r'NP:{<DT>?<JJ>*<NN>}'\n",
    "chunk_parser=nltk.RegexpParser(grammar_np)\n",
    "chunk_result=chunk_parser.parse(sent_tokens)\n",
    "chunk_result"
   ]
  },
  {
   "cell_type": "markdown",
   "metadata": {},
   "source": []
  }
 ],
 "metadata": {
  "kernelspec": {
   "display_name": "Python 3",
   "language": "python",
   "name": "python3"
  },
  "language_info": {
   "codemirror_mode": {
    "name": "ipython",
    "version": 3
   },
   "file_extension": ".py",
   "mimetype": "text/x-python",
   "name": "python",
   "nbconvert_exporter": "python",
   "pygments_lexer": "ipython3",
   "version": "3.8.0"
  }
 },
 "nbformat": 4,
 "nbformat_minor": 4
}
