{
 "cells": [
  {
   "cell_type": "markdown",
   "metadata": {
    "colab_type": "text",
    "id": "p2y6YuWaqxiY"
   },
   "source": [
    "# Importing necessary dependancies"
   ]
  },
  {
   "cell_type": "code",
   "execution_count": 228,
   "metadata": {
    "colab": {
     "base_uri": "https://localhost:8080/",
     "height": 1000
    },
    "colab_type": "code",
    "id": "EX1EStlLwhnQ",
    "outputId": "b22682ab-5dbc-40a1-cd3a-2c09da119ade",
    "scrolled": true
   },
   "outputs": [],
   "source": [
    "import requests\n",
    "from bs4 import BeautifulSoup\n",
    "import pandas as pd\n",
    "import numpy as np\n",
    "import os\n",
    "\n",
    "#Gensim\n",
    "import gensim\n",
    "import gensim.corpora as corpora\n",
    "from gensim.utils import simple_preprocess\n",
    "from gensim.models import LdaModel, LdaMulticore,CoherenceModel\n",
    "\n",
    "#spacy for lemmatization\n",
    "import spacy\n",
    "\n",
    "#nltk\n",
    "import nltk\n",
    "#nltk.download('wordnet')\n",
    "#nltk.download('stopwords')\n",
    "from nltk.stem import WordNetLemmatizer, SnowballStemmer\n",
    "from nltk.stem.porter import *\n",
    "\n",
    "#Plotting tools\n",
    "import pyLDAvis\n",
    "import pyLDAvis.gensim\n",
    "import matplotlib.pyplot as plt\n",
    "%matplotlib inline\n",
    "\n",
    "#Enable logging for gensim\n",
    "import logging\n",
    "logging.basicConfig(format='%(asctime)s : %(levelname)s : %(message)s',level=logging.ERROR)\n",
    "\n",
    "import warnings\n",
    "warnings.filterwarnings('ignore',category=DeprecationWarning)"
   ]
  },
  {
   "cell_type": "code",
   "execution_count": 229,
   "metadata": {},
   "outputs": [],
   "source": [
    "# NLTK Stop words\n",
    "from nltk.corpus import stopwords\n",
    "stop_words = stopwords.words('english')"
   ]
  },
  {
   "cell_type": "code",
   "execution_count": 230,
   "metadata": {},
   "outputs": [],
   "source": [
    "#For writting in excel file\n",
    "\n",
    "\n",
    "from openpyxl import Workbook, load_workbook\n",
    "from openpyxl.drawing.image import Image\n",
    "from openpyxl.utils.dataframe import dataframe_to_rows\n",
    "\n",
    "# Create new workbook\n",
    "wb = Workbook()\n",
    "wb.save('D:\\ML_handson\\TopicModeling.xlsx')\n",
    "\n",
    "# Load existing workbook\n",
    "book = load_workbook('D:\\ML_handson\\TopicModeling.xlsx')\n",
    "\n",
    "writer = pd.ExcelWriter('TopicModeling.xlsx', engine='openpyxl') \n",
    "writer.book = book\n",
    "\n",
    "## ExcelWriter for some reason uses writer.sheets to access the sheet.\n",
    "## If you leave it empty it will not know that sheet Main is already there\n",
    "## and will create a new sheet.\n",
    "\n",
    "writer.sheets = dict((ws.title, ws) for ws in book.worksheets)\n",
    "\n",
    "writer.save()"
   ]
  },
  {
   "cell_type": "markdown",
   "metadata": {
    "colab_type": "text",
    "id": "G3qSDTHGcShN"
   },
   "source": [
    "# Scraping for Data retrieval"
   ]
  },
  {
   "cell_type": "code",
   "execution_count": 231,
   "metadata": {
    "colab": {},
    "colab_type": "code",
    "id": "cPSrsBtik6iR"
   },
   "outputs": [],
   "source": [
    "#list of urls from where we want to extract the data\n",
    "seed_urls=['https://inshorts.com/en/read/technology',\n",
    "          'https://inshorts.com/en/read/sports',\n",
    "          'https://inshorts.com/en/read/politics']\n",
    "\n",
    "def build_dataset(seed_urls):\n",
    "  news_data=[]\n",
    "  for url in seed_urls:\n",
    "    news_category=url.split('/')[-1]#Split by '/' character and last string from array\n",
    "    data=requests.get(url)\n",
    "    soup=BeautifulSoup(data.content,'html.parser')#Returns BeautifulSoup object\n",
    "    #print(soup)\n",
    "    #Extract the news headline,article text and category\n",
    "    news_articles = [{'news_headline': headline.find('span', \n",
    "                                                          attrs={\"itemprop\": \"headline\"}).string,\n",
    "                            'news_article': article.find('div', \n",
    "                                                        attrs={\"itemprop\": \"articleBody\"}).string,\n",
    "                            'news_category': news_category}\n",
    "                          \n",
    "                              for headline, article in \n",
    "                              zip(soup.find_all('div', \n",
    "                                                class_=[\"news-card-title news-right-box\"]),\n",
    "                                  soup.find_all('div', \n",
    "                                                class_=[\"news-card-content news-right-box\"]))]\n",
    "    #print(news_articles)\n",
    "    news_data.extend(news_articles)\n",
    "    df=pd.DataFrame(news_data)\n",
    "    df=df[['news_headline','news_article','news_category']]\n",
    "  return df"
   ]
  },
  {
   "cell_type": "code",
   "execution_count": 232,
   "metadata": {
    "colab": {
     "base_uri": "https://localhost:8080/",
     "height": 289
    },
    "colab_type": "code",
    "id": "e5FGiUY4bVv9",
    "outputId": "5c33d5d4-fb27-4fd9-daf6-df73713cdf95"
   },
   "outputs": [
    {
     "data": {
      "text/html": [
       "<div>\n",
       "<style scoped>\n",
       "    .dataframe tbody tr th:only-of-type {\n",
       "        vertical-align: middle;\n",
       "    }\n",
       "\n",
       "    .dataframe tbody tr th {\n",
       "        vertical-align: top;\n",
       "    }\n",
       "\n",
       "    .dataframe thead th {\n",
       "        text-align: right;\n",
       "    }\n",
       "</style>\n",
       "<table border=\"1\" class=\"dataframe\">\n",
       "  <thead>\n",
       "    <tr style=\"text-align: right;\">\n",
       "      <th></th>\n",
       "      <th>news_headline</th>\n",
       "      <th>news_article</th>\n",
       "      <th>news_category</th>\n",
       "    </tr>\n",
       "  </thead>\n",
       "  <tbody>\n",
       "    <tr>\n",
       "      <th>0</th>\n",
       "      <td>OnePlus 8, OnePlus 8 Pro India prices announced; starts at ₹41,999</td>\n",
       "      <td>OnePlus has announced the India pricing for its latest flagship offering, OnePlus 8 series. The OnePlus 8 gets a starting price of ₹41,999 with 6GB RAM+128GB storage, whereas OnePlus 8 Pro will re...</td>\n",
       "      <td>technology</td>\n",
       "    </tr>\n",
       "    <tr>\n",
       "      <th>1</th>\n",
       "      <td>2 men step out amid lockdown and make TikTok video demeaning police; both held</td>\n",
       "      <td>Police in Maharashtra's Dongri arrested two men aged 24 and 19 for allegedly stepping out of their houses and recording a TikTok video. They were also paraded in Bhendi Bazaar area as the two were...</td>\n",
       "      <td>technology</td>\n",
       "    </tr>\n",
       "    <tr>\n",
       "      <th>2</th>\n",
       "      <td>Microsoft launching chatbot to urge recovered patients to donate plasma</td>\n",
       "      <td>Microsoft, working with a consortium of US-based pharmaceutical firms, will launch a chatbot to encourage recovered COVID-19 patients to donate plasma. The \"Plasmabot\" will help people determine w...</td>\n",
       "      <td>technology</td>\n",
       "    </tr>\n",
       "    <tr>\n",
       "      <th>3</th>\n",
       "      <td>Facebook's COVID-19 survey to be available to users worldwide</td>\n",
       "      <td>Facebook's COVID-19 survey will be available to users worldwide to help researchers predict the spread of the disease. Users will see a link at top of News Feed for the survey, insights from which...</td>\n",
       "      <td>technology</td>\n",
       "    </tr>\n",
       "    <tr>\n",
       "      <th>4</th>\n",
       "      <td>Smartphone sales through e-commerce to remain suspended until May 3</td>\n",
       "      <td>The sale of smartphones, laptops and PCs, considered non-essential goods, will remain suspended through e-commerce channels like Amazon, Flipkart and others until May 3. This comes as the governme...</td>\n",
       "      <td>technology</td>\n",
       "    </tr>\n",
       "  </tbody>\n",
       "</table>\n",
       "</div>"
      ],
      "text/plain": [
       "                                                                    news_headline  \\\n",
       "0              OnePlus 8, OnePlus 8 Pro India prices announced; starts at ₹41,999   \n",
       "1  2 men step out amid lockdown and make TikTok video demeaning police; both held   \n",
       "2         Microsoft launching chatbot to urge recovered patients to donate plasma   \n",
       "3                   Facebook's COVID-19 survey to be available to users worldwide   \n",
       "4             Smartphone sales through e-commerce to remain suspended until May 3   \n",
       "\n",
       "                                                                                                                                                                                              news_article  \\\n",
       "0  OnePlus has announced the India pricing for its latest flagship offering, OnePlus 8 series. The OnePlus 8 gets a starting price of ₹41,999 with 6GB RAM+128GB storage, whereas OnePlus 8 Pro will re...   \n",
       "1  Police in Maharashtra's Dongri arrested two men aged 24 and 19 for allegedly stepping out of their houses and recording a TikTok video. They were also paraded in Bhendi Bazaar area as the two were...   \n",
       "2  Microsoft, working with a consortium of US-based pharmaceutical firms, will launch a chatbot to encourage recovered COVID-19 patients to donate plasma. The \"Plasmabot\" will help people determine w...   \n",
       "3  Facebook's COVID-19 survey will be available to users worldwide to help researchers predict the spread of the disease. Users will see a link at top of News Feed for the survey, insights from which...   \n",
       "4  The sale of smartphones, laptops and PCs, considered non-essential goods, will remain suspended through e-commerce channels like Amazon, Flipkart and others until May 3. This comes as the governme...   \n",
       "\n",
       "  news_category  \n",
       "0    technology  \n",
       "1    technology  \n",
       "2    technology  \n",
       "3    technology  \n",
       "4    technology  "
      ]
     },
     "execution_count": 232,
     "metadata": {},
     "output_type": "execute_result"
    }
   ],
   "source": [
    "news_df=build_dataset(seed_urls)\n",
    "\n",
    "news_df.to_excel(writer, sheet_name='News article',index=False,startrow=0,startcol=0)\n",
    " \n",
    "writer.save()\n",
    "#news_df.to_excel(r'D:\\ML_handson\\TopicModeling.xlsx', sheet_name='NewsArticle', index = False)\n",
    "news_df.head(5)"
   ]
  },
  {
   "cell_type": "code",
   "execution_count": 233,
   "metadata": {
    "colab": {
     "base_uri": "https://localhost:8080/",
     "height": 85
    },
    "colab_type": "code",
    "id": "k7gJ7T8rcCaD",
    "outputId": "132231c2-10c5-4a6c-8fa2-b13669a48431"
   },
   "outputs": [
    {
     "data": {
      "text/plain": [
       "technology    25\n",
       "sports        25\n",
       "politics      25\n",
       "Name: news_category, dtype: int64"
      ]
     },
     "execution_count": 233,
     "metadata": {},
     "output_type": "execute_result"
    }
   ],
   "source": [
    "news_df.news_category.value_counts()"
   ]
  },
  {
   "cell_type": "markdown",
   "metadata": {
    "colab_type": "text",
    "id": "lxQ3OOGUcqo4"
   },
   "source": [
    "# Text Pre-processing"
   ]
  },
  {
   "cell_type": "code",
   "execution_count": 234,
   "metadata": {},
   "outputs": [
    {
     "name": "stdout",
     "output_type": "stream",
     "text": [
      "['OnePlus has announced the India pricing for its latest flagship offering, OnePlus 8 series. The OnePlus 8 gets a starting price of ₹41,999 with 6GB RAM+128GB storage, whereas OnePlus 8 Pro will retail at ₹54,999 with 8GB of RAM+128GB storage. The OnePlus 8  smartphone comes with 48 MP Triple Camera while OnePlus 8 Pro comes with 48 MP Quad Camera.']\n"
     ]
    }
   ],
   "source": [
    "#Convert to List\n",
    "data=news_df.news_article.values.tolist()\n",
    "print(data[:1])\n"
   ]
  },
  {
   "cell_type": "code",
   "execution_count": 235,
   "metadata": {},
   "outputs": [
    {
     "name": "stdout",
     "output_type": "stream",
     "text": [
      "[['oneplus', 'has', 'announced', 'the', 'india', 'pricing', 'for', 'its', 'latest', 'flagship', 'offering', 'oneplus', 'series', 'the', 'oneplus', 'gets', 'starting', 'price', 'of', 'with', 'gb', 'ram', 'gb', 'storage', 'whereas', 'oneplus', 'pro', 'will', 'retail', 'at', 'with', 'gb', 'of', 'ram', 'gb', 'storage', 'the', 'oneplus', 'smartphone', 'comes', 'with', 'mp', 'triple', 'camera', 'while', 'oneplus', 'pro', 'comes', 'with', 'mp', 'quad', 'camera']]\n"
     ]
    }
   ],
   "source": [
    "## Tokenizing words and cleanup text\n",
    "def sent_to_words(sentences):\n",
    "    for sentence in sentences:\n",
    "        yield(gensim.utils.simple_preprocess(str(sentence),deacc=True))#deacc=True removes punctuation\n",
    "        \n",
    "data_words=list(sent_to_words(data))\n",
    "print(data_words[:1])"
   ]
  },
  {
   "cell_type": "markdown",
   "metadata": {},
   "source": [
    "#### Creating Bigram and Trigram Models\n",
    "\n",
    "Bigrams are two words frequently occuring together in the document .Trigrams are 3 words frequently occuring\n",
    "\n",
    "Gensim's `Phrases` model can build and implement the bigrams, trigrams and quadgrams and more."
   ]
  },
  {
   "cell_type": "code",
   "execution_count": 236,
   "metadata": {
    "scrolled": true
   },
   "outputs": [
    {
     "name": "stdout",
     "output_type": "stream",
     "text": [
      "['oneplus', 'has', 'announced', 'the', 'india', 'pricing', 'for', 'its', 'latest', 'flagship', 'offering', 'oneplus', 'series', 'the', 'oneplus', 'gets', 'starting', 'price', 'of', 'with', 'gb', 'ram', 'gb', 'storage', 'whereas', 'oneplus', 'pro', 'will', 'retail', 'at', 'with', 'gb', 'of', 'ram', 'gb', 'storage', 'the', 'oneplus', 'smartphone', 'comes', 'with', 'mp', 'triple', 'camera', 'while', 'oneplus', 'pro', 'comes', 'with', 'mp', 'quad', 'camera']\n"
     ]
    }
   ],
   "source": [
    "# Build the bigram and trigram models\n",
    "bigram = gensim.models.Phrases(data_words, min_count=5, threshold=100) # higher threshold fewer phrases.\n",
    "trigram = gensim.models.Phrases(bigram[data_words], threshold=100)  \n",
    "\n",
    "# Faster way to get a sentence clubbed as a trigram/bigram\n",
    "bigram_mod = gensim.models.phrases.Phraser(bigram)\n",
    "trigram_mod = gensim.models.phrases.Phraser(trigram)\n",
    "\n",
    "# See trigram example\n",
    "print(trigram_mod[bigram_mod[data_words[0]]])"
   ]
  },
  {
   "cell_type": "code",
   "execution_count": 237,
   "metadata": {},
   "outputs": [],
   "source": [
    "#define functions for stopwords, bigrams,trigrams and lemmatization\n",
    "def remove_stopwords(texts):\n",
    "    return [[word for word in simple_preprocess(str(doc)) if word not in stop_words] for doc in texts]\n",
    "\n",
    "def make_bigrams(texts):\n",
    "    return [bigram_mod[doc] for doc in texts]\n",
    "\n",
    "def make_trigrams(texts):\n",
    "    return [trigram_mod[bigram_mod[doc]] for doc in texts]\n",
    "\n",
    "def lemmatization(texts, allowed_postags=['NOUN', 'ADJ', 'VERB', 'ADV']):\n",
    "    \"\"\"https://spacy.io/api/annotation\"\"\"\n",
    "    texts_out = []\n",
    "    for sent in texts:\n",
    "        doc = nlp(\" \".join(sent)) \n",
    "        texts_out.append([token.lemma_ for token in doc if token.pos_ in allowed_postags])\n",
    "    return texts_out"
   ]
  },
  {
   "cell_type": "markdown",
   "metadata": {},
   "source": [
    "Let's invoke the functions in order "
   ]
  },
  {
   "cell_type": "code",
   "execution_count": 238,
   "metadata": {},
   "outputs": [
    {
     "name": "stdout",
     "output_type": "stream",
     "text": [
      "['refuse', 'pay', 'ex', 'engineer', 'legal', 'award', 'owe', 'plead', 'guilty', 'trade', 'secret', 'theft', 'recruit', 'investigation', 'reveal', 'transfer', 'confidential', 'file', 'know', 'never', 'would', 'enter', 'agreement', 'say']\n"
     ]
    }
   ],
   "source": [
    "# Remove Stop Words\n",
    "data_words_nostops = remove_stopwords(data_words)\n",
    "\n",
    "# Form Bigrams\n",
    "data_words_bigrams = make_bigrams(data_words_nostops)\n",
    "\n",
    "# Initialize spacy 'en' model, keeping only tagger component (for efficiency)\n",
    "# python3 -m spacy download en\n",
    "nlp = spacy.load('en', disable=['parser', 'ner'])\n",
    "\n",
    "# Do lemmatization keeping only noun, adj, vb, adv\n",
    "data_lemmatized = lemmatization(data_words_bigrams, allowed_postags=['NOUN', 'ADJ', 'VERB', 'ADV'])\n",
    "\n",
    "print(data_lemmatized[23])"
   ]
  },
  {
   "cell_type": "markdown",
   "metadata": {},
   "source": [
    "### Create the dictionary and corpus needed for topic modeling"
   ]
  },
  {
   "cell_type": "code",
   "execution_count": 239,
   "metadata": {},
   "outputs": [
    {
     "name": "stdout",
     "output_type": "stream",
     "text": [
      "[[(0, 1), (1, 1), (2, 2), (3, 1), (4, 1), (5, 1), (6, 1), (7, 4), (8, 2), (9, 1), (10, 1), (11, 1), (12, 1), (13, 2), (14, 1)]]\n"
     ]
    }
   ],
   "source": [
    "#create dictionary\n",
    "id2word=corpora.Dictionary(data_lemmatized)\n",
    "\n",
    "'''\n",
    "OPTIONAL STEP\n",
    "Remove very rare and very common words:\n",
    "\n",
    "- words appearing less than 15 times\n",
    "- words appearing in more than 10% of all documents\n",
    "'''\n",
    "#id2word.filter_extremes(no_below=15, no_above=0.1, keep_n= 100000)\n",
    "\n",
    "#Create corpus\n",
    "texts=data_lemmatized\n",
    "\n",
    "#Term Document Frequency(BagOfWords)\n",
    "\n",
    "corpus=[id2word.doc2bow(text) for text in texts]\n",
    "\n",
    "#view\n",
    "print(corpus[:1])"
   ]
  },
  {
   "cell_type": "markdown",
   "metadata": {},
   "source": [
    "Gensim creates a unique id for each word in the document. The produced corpus shown above is a mapping of (word_id, word_frequency).\n",
    "\n",
    "For example, (0, 1) above implies, word id 0 occurs once in the first document. Likewise, word id 1 occurs twice and so on."
   ]
  },
  {
   "cell_type": "code",
   "execution_count": 240,
   "metadata": {},
   "outputs": [
    {
     "data": {
      "text/plain": [
       "[[('announce', 1),\n",
       "  ('camera', 1),\n",
       "  ('come', 2),\n",
       "  ('flagship', 1),\n",
       "  ('get', 1),\n",
       "  ('late', 1),\n",
       "  ('offer', 1),\n",
       "  ('oneplus', 4),\n",
       "  ('price', 2),\n",
       "  ('pro', 1),\n",
       "  ('series', 1),\n",
       "  ('smartphone', 1),\n",
       "  ('start', 1),\n",
       "  ('storage', 2),\n",
       "  ('triple', 1)]]"
      ]
     },
     "execution_count": 240,
     "metadata": {},
     "output_type": "execute_result"
    }
   ],
   "source": [
    "# Human readable format of corpus (term-frequency)\n",
    "[[(id2word[id], freq) for id, freq in cp] for cp in corpus[:1]]"
   ]
  },
  {
   "cell_type": "markdown",
   "metadata": {},
   "source": [
    "### Building  the Topic Model"
   ]
  },
  {
   "cell_type": "markdown",
   "metadata": {},
   "source": [
    "**We will be running LDA using all CPU cores to parallelize and speed up model training.**\n",
    "\n",
    "Some parameters for tweaking are:\n",
    "\n",
    "- num_topics : Number of latent topics to be extracted\n",
    "- id2word : mapping from word ids(integer) to words(strings).Used to determine vocabulary size\n",
    "- workers : Number of extra processes to use for parallelization\n",
    "- alpha and eta : hyperparameters that affect the sparsity of the document-topic(theta) and topic-word(lambda) ditributions.Default values are 1.0/num_topics\n",
    "    - Alpha is per document topic distribution\n",
    "        - High alpha : Every document has a mixture of all topics ( documents appear similar to each other)\n",
    "        - Low alpha : Every document has a mixture of very few topics.\n",
    "        \n",
    "    - Eta is per topic word distribution\n",
    "        - High eta : Each topic has a mixture of most words (topics appear similar to each other)\n",
    "        - Low eta : Each topic has a mixture of few words.\n",
    "        \n",
    "- Passes : number of training passes through the corpus"
   ]
  },
  {
   "cell_type": "code",
   "execution_count": 241,
   "metadata": {},
   "outputs": [],
   "source": [
    "#Let's build a LDA topic model with 3 topics (As per news divided originally in 3 categpries), using LdaMulticore().\n",
    "lda_model = gensim.models.ldamodel.LdaModel(corpus=corpus,\n",
    "                                           id2word=id2word,\n",
    "                                           num_topics=3, \n",
    "                                           random_state=100,\n",
    "                                           update_every=1,\n",
    "                                           chunksize=100,\n",
    "                                           passes=10,\n",
    "                                           alpha='auto',\n",
    "                                           per_word_topics=True,\n",
    "                                           )"
   ]
  },
  {
   "cell_type": "markdown",
   "metadata": {},
   "source": [
    "### View the topics in LDA model\n",
    "The above model is built with 3 different topics where each topic is a combination of keywords and each keyword contributes a certain weightages to the topic."
   ]
  },
  {
   "cell_type": "code",
   "execution_count": 242,
   "metadata": {},
   "outputs": [
    {
     "name": "stdout",
     "output_type": "stream",
     "text": [
      "[(0, '0.028*\"say\" + 0.013*\"government\" + 0.010*\"add\" + 0.009*\"state\" + 0.008*\"lockdown\" + 0.008*\"make\" + 0.007*\"ask\" + 0.006*\"people\" + 0.006*\"use\" + 0.005*\"test\"'), (1, '0.023*\"say\" + 0.012*\"add\" + 0.011*\"former\" + 0.008*\"government\" + 0.007*\"lead\" + 0.006*\"lockdown\" + 0.006*\"address\" + 0.006*\"team\" + 0.006*\"website\" + 0.006*\"also\"'), (2, '0.024*\"say\" + 0.009*\"add\" + 0.009*\"state\" + 0.008*\"government\" + 0.008*\"also\" + 0.007*\"people\" + 0.007*\"help\" + 0.006*\"play\" + 0.005*\"call\" + 0.005*\"use\"')]\n"
     ]
    }
   ],
   "source": [
    "print(lda_model.print_topics())\n",
    "doc_lda=lda_model[corpus]"
   ]
  },
  {
   "cell_type": "markdown",
   "metadata": {},
   "source": [
    "#### How to interpret this ?\n",
    "- Topic 0 is a represented as \n",
    "'0.016*\"say\" + 0.011*\"government\" + 0.010*\"also\" + 0.010*\"add\" + 0.009*\"video\" + 0.008*\"come\" + 0.008*\"call\" + 0.006*\"make\" + 0.006*\"ensure\" + 0.006*\"hold\"\n",
    "\n",
    "- Topic 1 is a represented as \n",
    "'0.033*\"say\" + 0.016*\"government\" + 0.013*\"add\" + 0.012*\"state\" + 0.010*\"people\" + 0.007*\"lockdown\" + 0.005*\"covid\" + 0.005*\"tweet\" + 0.005*\"new\" + 0.005*\"take\"\n",
    "\n",
    "- Topic 2 is a represented as \n",
    "'0.028*\"say\" + 0.011*\"former\" + 0.008*\"add\" + 0.008*\"use\" + 0.008*\"test\" + 0.006*\"state\" + 0.006*\"see\" + 0.005*\"football\" + 0.005*\"also\" + 0.005*\"good\"\n",
    "\n",
    "The weights reflect how important a keyword is to that topic."
   ]
  },
  {
   "cell_type": "markdown",
   "metadata": {},
   "source": [
    "### Original Classification of the topics\n",
    "\n",
    "1. Technolgy\n",
    "2. Sports\n",
    "3. Politics"
   ]
  },
  {
   "cell_type": "markdown",
   "metadata": {},
   "source": [
    "### Compute Model Perplexity and coherence Score\n",
    "\n",
    "Model Perplexity and topic coherence provide q onvinient measure to evaluate how good a given topic model is."
   ]
  },
  {
   "cell_type": "code",
   "execution_count": 243,
   "metadata": {},
   "outputs": [
    {
     "name": "stdout",
     "output_type": "stream",
     "text": [
      "\n",
      "Perplexity :  -6.833544523677246\n",
      "\n",
      " Coherence Score :  0.4260537809637304\n"
     ]
    }
   ],
   "source": [
    "#compute perplexity\n",
    "print('\\nPerplexity : ',lda_model.log_perplexity(corpus))#Lower the better\n",
    "\n",
    "#ComputeCoherence score\n",
    "coherence_model_lda=CoherenceModel(model=lda_model,texts=data_lemmatized,dictionary=id2word,coherence='c_v')\n",
    "coherence_lda=coherence_model_lda.get_coherence()\n",
    "print('\\n Coherence Score : ',coherence_lda)\n"
   ]
  },
  {
   "cell_type": "markdown",
   "metadata": {},
   "source": [
    "### Visualize the topics- keywords\n",
    "\n",
    "Now that the LDA model is built, the next step is to examine the produced topics and the associated keywords. "
   ]
  },
  {
   "cell_type": "code",
   "execution_count": 244,
   "metadata": {},
   "outputs": [
    {
     "data": {
      "text/html": [
       "\n",
       "<link rel=\"stylesheet\" type=\"text/css\" href=\"https://cdn.rawgit.com/bmabey/pyLDAvis/files/ldavis.v1.0.0.css\">\n",
       "\n",
       "\n",
       "<div id=\"ldavis_el1177221192133432325568352512\"></div>\n",
       "<script type=\"text/javascript\">\n",
       "\n",
       "var ldavis_el1177221192133432325568352512_data = {\"mdsDat\": {\"x\": [-0.054640028124089725, -0.03789312546655969, 0.09253315359064943], \"y\": [0.07393007725379175, -0.08342279464312849, 0.009492717389336762], \"topics\": [1, 2, 3], \"cluster\": [1, 1, 1], \"Freq\": [40.89300537109375, 31.19046974182129, 27.916522979736328]}, \"tinfo\": {\"Term\": [\"lead\", \"former\", \"address\", \"football\", \"help\", \"ask\", \"crisis\", \"ban\", \"point\", \"hit\", \"website\", \"year\", \"patient\", \"plasma\", \"meeting\", \"first\", \"enter\", \"reveal\", \"pm\", \"state\", \"team\", \"video\", \"camera\", \"allow\", \"post\", \"oneplus\", \"make\", \"create\", \"cricket\", \"fund\", \"crisis\", \"oneplus\", \"up\", \"shield\", \"value\", \"share\", \"express\", \"offer\", \"food\", \"violence\", \"corporate\", \"testing\", \"domestic\", \"ask\", \"asymptomatic\", \"cash\", \"survey\", \"dollar\", \"link\", \"worldwide\", \"layoff\", \"related\", \"picture\", \"however\", \"price\", \"storage\", \"always\", \"cut\", \"design\", \"session\", \"must\", \"company\", \"make\", \"case\", \"announce\", \"provide\", \"face\", \"say\", \"government\", \"lockdown\", \"state\", \"come\", \"include\", \"thank\", \"issue\", \"run\", \"test\", \"take\", \"add\", \"use\", \"video\", \"people\", \"create\", \"urge\", \"ensure\", \"covid\", \"start\", \"worker\", \"user\", \"patient\", \"plasma\", \"meeting\", \"first\", \"enter\", \"reveal\", \"pose\", \"risk\", \"extension\", \"produce\", \"member\", \"conference\", \"event\", \"farm\", \"field\", \"yuvraj\", \"instagram\", \"co\", \"arrest\", \"tour\", \"day\", \"great\", \"supply\", \"schedule\", \"app\", \"record\", \"tennis\", \"labuschagne\", \"closed\", \"never\", \"year\", \"help\", \"play\", \"post\", \"cricket\", \"say\", \"number\", \"part\", \"also\", \"go\", \"state\", \"new\", \"people\", \"call\", \"add\", \"pick\", \"due\", \"covid\", \"video\", \"government\", \"may\", \"use\", \"firm\", \"hold\", \"former\", \"ensure\", \"good\", \"would\", \"lead\", \"address\", \"football\", \"ban\", \"point\", \"hit\", \"scam\", \"specific\", \"raise\", \"single\", \"marriage\", \"owaisi\", \"steal\", \"allege\", \"floor\", \"modi\", \"bjp\", \"least\", \"majority\", \"financial\", \"game\", \"warehouse\", \"relegate\", \"hacker\", \"become\", \"resignation\", \"stadium\", \"thermal\", \"infect\", \"sale\", \"former\", \"team\", \"website\", \"pm\", \"camera\", \"allow\", \"say\", \"add\", \"fund\", \"could\", \"government\", \"user\", \"also\", \"lockdown\", \"good\", \"decision\", \"tweet\", \"worker\", \"create\", \"criticise\", \"strategically\", \"firm\", \"people\", \"twitter\"], \"Freq\": [3.0, 9.0, 3.0, 3.0, 6.0, 6.0, 4.0, 2.0, 2.0, 2.0, 4.0, 3.0, 2.0, 2.0, 2.0, 2.0, 2.0, 2.0, 3.0, 12.0, 4.0, 6.0, 3.0, 3.0, 4.0, 3.0, 7.0, 5.0, 3.0, 3.0, 3.7891464233398438, 3.0782132148742676, 2.3678691387176514, 2.367349863052368, 2.3669939041137695, 2.3668010234832764, 2.365985155105591, 2.365779161453247, 2.364622116088867, 2.3629820346832275, 2.361870050430298, 2.361363172531128, 2.359738826751709, 5.203359127044678, 1.6585710048675537, 1.658497929573059, 1.6584765911102295, 1.6581071615219116, 1.6580904722213745, 1.6579334735870361, 1.6579283475875854, 1.6579172611236572, 1.6578179597854614, 1.6576591730117798, 1.6575922966003418, 1.6575493812561035, 1.6574522256851196, 1.6573485136032104, 1.6570919752120972, 1.6570525169372559, 3.777350664138794, 3.79172682762146, 5.6231584548950195, 3.0758414268493652, 3.07488751411438, 3.077078104019165, 3.7807700634002686, 20.27928924560547, 9.46116828918457, 5.896836757659912, 6.620894908905029, 3.0764942169189453, 3.0746421813964844, 2.3649709224700928, 2.359829902648926, 2.3715553283691406, 3.799426794052124, 3.7835187911987305, 7.340471267700195, 4.495981693267822, 3.786519765853882, 4.498560428619385, 3.0710208415985107, 3.075465202331543, 3.068138599395752, 3.0784835815429688, 2.377243757247925, 2.371309518814087, 2.370091676712036, 2.1759562492370605, 2.175644874572754, 2.17466402053833, 2.1735146045684814, 2.1729342937469482, 2.165877103805542, 1.523453950881958, 1.523451328277588, 1.5234349966049194, 1.5234354734420776, 1.523421287536621, 1.5234177112579346, 1.523410677909851, 1.5233861207962036, 1.5233020782470703, 1.5232632160186768, 1.5227206945419312, 1.5226813554763794, 1.5224223136901855, 1.5220483541488647, 1.521638035774231, 1.5215694904327393, 1.5215977430343628, 1.5215274095535278, 1.5209485292434692, 1.5205285549163818, 1.5205342769622803, 1.5204886198043823, 1.5198886394500732, 1.5200151205062866, 2.828289747238159, 4.135125637054443, 3.4778192043304443, 2.8270323276519775, 2.1759941577911377, 13.299053192138672, 2.1749560832977295, 2.1726577281951904, 4.141556262969971, 2.8234856128692627, 4.788995742797852, 2.826655626296997, 4.137002944946289, 2.838798999786377, 4.793886184692383, 2.176365613937378, 2.174853801727295, 2.8326900005340576, 2.8305437564849854, 4.1498003005981445, 2.18249249458313, 2.834397315979004, 2.1670331954956055, 2.17820405960083, 2.820305347442627, 2.1791744232177734, 2.178138256072998, 2.176042079925537, 3.350419759750366, 2.726039171218872, 2.7178218364715576, 2.093743085861206, 2.0933890342712402, 2.0857322216033936, 1.4681323766708374, 1.468112587928772, 1.4679396152496338, 1.4672212600708008, 1.4670931100845337, 1.4669877290725708, 1.4668599367141724, 1.4667768478393555, 1.4668580293655396, 1.4666428565979004, 1.4665576219558716, 1.4666547775268555, 1.466616153717041, 1.466284155845642, 1.4663074016571045, 1.4662542343139648, 1.466238260269165, 1.4660004377365112, 1.4656739234924316, 1.46468985080719, 1.4643666744232178, 1.464277982711792, 1.4637653827667236, 1.4632434844970703, 5.238441467285156, 2.7256641387939453, 2.725241184234619, 2.096759080886841, 2.093407392501831, 2.092179775238037, 11.393959999084473, 5.8726043701171875, 2.095149040222168, 2.0678043365478516, 3.9869730472564697, 2.095461845397949, 2.724835157394409, 2.7377233505249023, 2.0937578678131104, 2.0946450233459473, 2.0939807891845703, 2.097588300704956, 2.100278377532959, 1.4848580360412598, 1.4712653160095215, 1.470867395401001, 1.4700263738632202, 1.470022439956665], \"Total\": [3.0, 9.0, 3.0, 3.0, 6.0, 6.0, 4.0, 2.0, 2.0, 2.0, 4.0, 3.0, 2.0, 2.0, 2.0, 2.0, 2.0, 2.0, 3.0, 12.0, 4.0, 6.0, 3.0, 3.0, 4.0, 3.0, 7.0, 5.0, 3.0, 3.0, 4.2186970710754395, 3.5077097415924072, 2.7968523502349854, 2.7968671321868896, 2.7967522144317627, 2.7967493534088135, 2.7967474460601807, 2.79667067527771, 2.796643018722534, 2.7965078353881836, 2.796415328979492, 2.7962005138397217, 2.796241044998169, 6.269017219543457, 2.086117744445801, 2.0861120223999023, 2.086104154586792, 2.086061716079712, 2.086059808731079, 2.0860416889190674, 2.086064338684082, 2.0860648155212402, 2.0860562324523926, 2.086043357849121, 2.086002826690674, 2.0859978199005127, 2.0859973430633545, 2.086016893386841, 2.0859789848327637, 2.0859906673431396, 4.846782207489014, 4.87174654006958, 7.622801780700684, 4.136805057525635, 4.136594772338867, 4.160556316375732, 5.52387809753418, 44.9723014831543, 17.597942352294922, 10.171829223632812, 12.260832786560059, 4.766192436218262, 4.789484024047852, 3.425870418548584, 3.4252452850341797, 3.450091600418091, 6.783914566040039, 6.782631874084473, 18.006961822509766, 8.79948902130127, 6.830147743225098, 10.105588912963867, 5.394791603088379, 5.442543983459473, 5.465461254119873, 6.748824119567871, 4.079511642456055, 5.337773323059082, 4.684869766235352, 2.623230457305908, 2.6232571601867676, 2.6231565475463867, 2.6232757568359375, 2.6232612133026123, 2.623844623565674, 1.9702352285385132, 1.970234751701355, 1.970234990119934, 1.9702366590499878, 1.9702354669570923, 1.9702353477478027, 1.9702353477478027, 1.970238447189331, 1.970247507095337, 1.9702452421188354, 1.9702094793319702, 1.9702075719833374, 1.9703259468078613, 1.9703565835952759, 1.9701778888702393, 1.9701766967773438, 1.9703278541564941, 1.9704015254974365, 1.9703898429870605, 1.9701924324035645, 1.9702932834625244, 1.9704951047897339, 1.970278024673462, 1.9705379009246826, 3.9870760440826416, 6.7144904136657715, 5.980030059814453, 4.697601318359375, 3.2525007724761963, 44.9723014831543, 3.334045886993408, 3.334085464477539, 9.23140811920166, 5.251877784729004, 12.260832786560059, 5.327108383178711, 10.105588912963867, 6.037471294403076, 18.006961822509766, 3.9631428718566895, 3.963507890701294, 6.748824119567871, 6.830147743225098, 17.597942352294922, 4.592526435852051, 8.79948902130127, 4.592962741851807, 4.674122333526611, 9.022466659545898, 5.465461254119873, 5.222054481506348, 5.311426639556885, 3.8110690116882324, 3.1814212799072266, 3.1824841499328613, 2.552269697189331, 2.5524349212646484, 2.553264617919922, 1.9228339195251465, 1.9228354692459106, 1.9228594303131104, 1.9229482412338257, 1.9229642152786255, 1.9229795932769775, 1.9229222536087036, 1.9228858947753906, 1.922997236251831, 1.9229577779769897, 1.92289400100708, 1.9230239391326904, 1.9230282306671143, 1.9229605197906494, 1.9230577945709229, 1.9230754375457764, 1.9230647087097168, 1.9229936599731445, 1.922925591468811, 1.9232765436172485, 1.9229737520217896, 1.9233314990997314, 1.9231308698654175, 1.9230754375457764, 9.022466659545898, 4.545217514038086, 4.6028337478637695, 3.2050654888153076, 3.2634286880493164, 3.262618064880371, 44.9723014831543, 18.006961822509766, 3.973944664001465, 3.919569492340088, 17.597942352294922, 4.684869766235352, 9.23140811920166, 10.171829223632812, 5.222054481506348, 5.2800374031066895, 5.279690265655518, 5.337773323059082, 5.394791603088379, 2.5753579139709473, 3.3438844680786133, 4.592962741851807, 10.105588912963867, 3.286210060119629], \"Category\": [\"Default\", \"Default\", \"Default\", \"Default\", \"Default\", \"Default\", \"Default\", \"Default\", \"Default\", \"Default\", \"Default\", \"Default\", \"Default\", \"Default\", \"Default\", \"Default\", \"Default\", \"Default\", \"Default\", \"Default\", \"Default\", \"Default\", \"Default\", \"Default\", \"Default\", \"Default\", \"Default\", \"Default\", \"Default\", \"Default\", \"Topic1\", \"Topic1\", \"Topic1\", \"Topic1\", \"Topic1\", \"Topic1\", \"Topic1\", \"Topic1\", \"Topic1\", \"Topic1\", \"Topic1\", \"Topic1\", \"Topic1\", \"Topic1\", \"Topic1\", \"Topic1\", \"Topic1\", \"Topic1\", \"Topic1\", \"Topic1\", \"Topic1\", \"Topic1\", \"Topic1\", \"Topic1\", \"Topic1\", \"Topic1\", \"Topic1\", \"Topic1\", \"Topic1\", \"Topic1\", \"Topic1\", \"Topic1\", \"Topic1\", \"Topic1\", \"Topic1\", \"Topic1\", \"Topic1\", \"Topic1\", \"Topic1\", \"Topic1\", \"Topic1\", \"Topic1\", \"Topic1\", \"Topic1\", \"Topic1\", \"Topic1\", \"Topic1\", \"Topic1\", \"Topic1\", \"Topic1\", \"Topic1\", \"Topic1\", \"Topic1\", \"Topic1\", \"Topic1\", \"Topic1\", \"Topic1\", \"Topic1\", \"Topic1\", \"Topic2\", \"Topic2\", \"Topic2\", \"Topic2\", \"Topic2\", \"Topic2\", \"Topic2\", \"Topic2\", \"Topic2\", \"Topic2\", \"Topic2\", \"Topic2\", \"Topic2\", \"Topic2\", \"Topic2\", \"Topic2\", \"Topic2\", \"Topic2\", \"Topic2\", \"Topic2\", \"Topic2\", \"Topic2\", \"Topic2\", \"Topic2\", \"Topic2\", \"Topic2\", \"Topic2\", \"Topic2\", \"Topic2\", \"Topic2\", \"Topic2\", \"Topic2\", \"Topic2\", \"Topic2\", \"Topic2\", \"Topic2\", \"Topic2\", \"Topic2\", \"Topic2\", \"Topic2\", \"Topic2\", \"Topic2\", \"Topic2\", \"Topic2\", \"Topic2\", \"Topic2\", \"Topic2\", \"Topic2\", \"Topic2\", \"Topic2\", \"Topic2\", \"Topic2\", \"Topic2\", \"Topic2\", \"Topic2\", \"Topic2\", \"Topic2\", \"Topic2\", \"Topic3\", \"Topic3\", \"Topic3\", \"Topic3\", \"Topic3\", \"Topic3\", \"Topic3\", \"Topic3\", \"Topic3\", \"Topic3\", \"Topic3\", \"Topic3\", \"Topic3\", \"Topic3\", \"Topic3\", \"Topic3\", \"Topic3\", \"Topic3\", \"Topic3\", \"Topic3\", \"Topic3\", \"Topic3\", \"Topic3\", \"Topic3\", \"Topic3\", \"Topic3\", \"Topic3\", \"Topic3\", \"Topic3\", \"Topic3\", \"Topic3\", \"Topic3\", \"Topic3\", \"Topic3\", \"Topic3\", \"Topic3\", \"Topic3\", \"Topic3\", \"Topic3\", \"Topic3\", \"Topic3\", \"Topic3\", \"Topic3\", \"Topic3\", \"Topic3\", \"Topic3\", \"Topic3\", \"Topic3\", \"Topic3\", \"Topic3\", \"Topic3\", \"Topic3\", \"Topic3\", \"Topic3\"], \"logprob\": [30.0, 29.0, 28.0, 27.0, 26.0, 25.0, 24.0, 23.0, 22.0, 21.0, 20.0, 19.0, 18.0, 17.0, 16.0, 15.0, 14.0, 13.0, 12.0, 11.0, 10.0, 9.0, 8.0, 7.0, 6.0, 5.0, 4.0, 3.0, 2.0, 1.0, -5.252399921417236, -5.46019983291626, -5.722499847412109, -5.722799777984619, -5.722899913787842, -5.7230000495910645, -5.723299980163574, -5.723400115966797, -5.723899841308594, -5.724599838256836, -5.725100040435791, -5.725299835205078, -5.72599983215332, -4.935200214385986, -6.07859992980957, -6.07859992980957, -6.07859992980957, -6.078800201416016, -6.07889986038208, -6.078999996185303, -6.078999996185303, -6.078999996185303, -6.078999996185303, -6.079100131988525, -6.07919979095459, -6.07919979095459, -6.07919979095459, -6.0792999267578125, -6.079500198364258, -6.079500198364258, -5.255499839782715, -5.251699924468994, -4.857600212097168, -5.460899829864502, -5.461299896240234, -5.4604997634887695, -5.2546000480651855, -3.574899911880493, -4.337299823760986, -4.810100078582764, -4.694300174713135, -5.460700035095215, -5.461299896240234, -5.723800182342529, -5.725900173187256, -5.7210001945495605, -5.24970006942749, -5.253900051116943, -4.591100215911865, -5.081299781799316, -5.2530999183654785, -5.0808000564575195, -5.462500095367432, -5.461100101470947, -5.463500022888184, -5.460100173950195, -5.718599796295166, -5.721099853515625, -5.72160005569458, -5.536200046539307, -5.536399841308594, -5.536799907684326, -5.537300109863281, -5.537600040435791, -5.540900230407715, -5.8927001953125, -5.8927001953125, -5.8927001953125, -5.8927001953125, -5.8927001953125, -5.8927001953125, -5.8927001953125, -5.8927001953125, -5.8927998542785645, -5.8927998542785645, -5.893199920654297, -5.893199920654297, -5.893400192260742, -5.893599987030029, -5.893899917602539, -5.893899917602539, -5.893899917602539, -5.894000053405762, -5.8942999839782715, -5.894599914550781, -5.894599914550781, -5.894599914550781, -5.894999980926514, -5.894999980926514, -5.27400016784668, -4.894199848175049, -5.067299842834473, -5.274400234222412, -5.536200046539307, -3.7260000705718994, -5.5366997718811035, -5.537700176239014, -4.892600059509277, -5.275700092315674, -4.747399806976318, -5.274600028991699, -4.893700122833252, -5.270299911499023, -4.746300220489502, -5.535999774932861, -5.5366997718811035, -5.272500038146973, -5.273200035095215, -4.890600204467773, -5.533199787139893, -5.2718000411987305, -5.540299892425537, -5.535200119018555, -5.276800155639648, -5.5346999168396, -5.535200119018555, -5.536200046539307, -4.99370002746582, -5.199900150299072, -5.203000068664551, -5.463799953460693, -5.464000225067139, -5.467700004577637, -5.81879997253418, -5.81879997253418, -5.818900108337402, -5.819399833679199, -5.819499969482422, -5.8196001052856445, -5.819699764251709, -5.819699764251709, -5.819699764251709, -5.819799900054932, -5.819900035858154, -5.819799900054932, -5.819799900054932, -5.820099830627441, -5.820000171661377, -5.820099830627441, -5.820099830627441, -5.820199966430664, -5.820499897003174, -5.821100234985352, -5.821400165557861, -5.821400165557861, -5.821800231933594, -5.8221001625061035, -4.546800136566162, -5.200099945068359, -5.200200080871582, -5.462399959564209, -5.464000225067139, -5.464600086212158, -3.769700050354004, -4.432499885559082, -5.463200092315674, -5.47629976272583, -4.819799900054932, -5.4629998207092285, -5.200399875640869, -5.195700168609619, -5.463799953460693, -5.463399887084961, -5.463699817657471, -5.461999893188477, -5.460700035095215, -5.807499885559082, -5.816699981689453, -5.81689977645874, -5.817500114440918, -5.817500114440918], \"loglift\": [30.0, 29.0, 28.0, 27.0, 26.0, 25.0, 24.0, 23.0, 22.0, 21.0, 20.0, 19.0, 18.0, 17.0, 16.0, 15.0, 14.0, 13.0, 12.0, 11.0, 10.0, 9.0, 8.0, 7.0, 6.0, 5.0, 4.0, 3.0, 2.0, 1.0, 0.7868000268936157, 0.7635999917984009, 0.7276999950408936, 0.7275000214576721, 0.727400004863739, 0.7272999882698059, 0.7268999814987183, 0.7268999814987183, 0.7264000177383423, 0.7257999777793884, 0.7253000140190125, 0.7251999974250793, 0.7245000004768372, 0.7078999876976013, 0.664900004863739, 0.6647999882698059, 0.6647999882698059, 0.6646000146865845, 0.6646000146865845, 0.6644999980926514, 0.6644999980926514, 0.6644999980926514, 0.6643999814987183, 0.6643000245094299, 0.6643000245094299, 0.6643000245094299, 0.6642000079154968, 0.6642000079154968, 0.6639999747276306, 0.6639999747276306, 0.6449000239372253, 0.6435999870300293, 0.5899999737739563, 0.5978999733924866, 0.597599983215332, 0.5924999713897705, 0.5151000022888184, 0.09780000150203705, 0.2736000120639801, 0.3490000069141388, 0.27799999713897705, 0.45649999380111694, 0.45100000500679016, 0.5235999822616577, 0.5216000080108643, 0.5194000005722046, 0.31450000405311584, 0.31049999594688416, -0.003100000089034438, 0.22269999980926514, 0.3043000102043152, 0.08489999920129776, 0.33079999685287476, 0.32339999079704285, 0.31679999828338623, 0.10930000245571136, 0.35420000553131104, 0.0828000009059906, 0.21279999613761902, 0.9781000018119812, 0.9779999852180481, 0.9775999784469604, 0.9769999980926514, 0.9767000079154968, 0.9732000231742859, 0.9078999757766724, 0.9078999757766724, 0.9078999757766724, 0.9078999757766724, 0.9078999757766724, 0.9078999757766724, 0.9078999757766724, 0.907800018787384, 0.907800018787384, 0.907800018787384, 0.9074000120162964, 0.9074000120162964, 0.9071999788284302, 0.9068999886512756, 0.9067000150680542, 0.9067000150680542, 0.9065999984741211, 0.906499981880188, 0.9061999917030334, 0.906000018119812, 0.9059000015258789, 0.9057999849319458, 0.9054999947547913, 0.9054999947547913, 0.8216999769210815, 0.6802999973297119, 0.6230000257492065, 0.6571999788284302, 0.7631000280380249, -0.053300000727176666, 0.7379000186920166, 0.7368000149726868, 0.3634999990463257, 0.5443999767303467, 0.22499999403953552, 0.5313000082969666, 0.2718999981880188, 0.4104999899864197, -0.15839999914169312, 0.5656999945640564, 0.5648999810218811, 0.2969000041484833, 0.2842000126838684, -0.27970001101493835, 0.421099990606308, 0.03220000118017197, 0.4138999879360199, 0.40149998664855957, 0.002199999988079071, 0.24560000002384186, 0.2906000018119812, 0.2727000117301941, 1.1470999717712402, 1.121500015258789, 1.1181000471115112, 1.0779000520706177, 1.0777000188827515, 1.073699951171875, 1.006100058555603, 1.006100058555603, 1.00600004196167, 1.0054999589920044, 1.0053999423980713, 1.0053000450134277, 1.0052000284194946, 1.0052000284194946, 1.0052000284194946, 1.0051000118255615, 1.0049999952316284, 1.0049999952316284, 1.0049999952316284, 1.0047999620437622, 1.0047999620437622, 1.004699945449829, 1.004699945449829, 1.0046000480651855, 1.0044000148773193, 1.003600001335144, 1.003499984741211, 1.0032999515533447, 1.003000020980835, 1.0026999711990356, 0.7322999835014343, 0.7645999789237976, 0.751800000667572, 0.8515999913215637, 0.8320000171661377, 0.83160001039505, -0.09700000286102295, 0.15549999475479126, 0.6358000040054321, 0.6365000009536743, -0.20880000293254852, 0.4713999927043915, 0.05570000037550926, -0.0364999994635582, 0.3619999885559082, 0.3513999879360199, 0.35120001435279846, 0.3418999910354614, 0.3325999975204468, 0.7253000140190125, 0.45489999651908875, 0.13729999959468842, -0.6518999934196472, 0.4715000092983246]}, \"token.table\": {\"Topic\": [1, 2, 3, 3, 3, 1, 3, 1, 2, 3, 1, 1, 3, 2, 2, 1, 3, 1, 3, 3, 3, 1, 2, 3, 1, 3, 1, 3, 1, 2, 2, 1, 3, 1, 2, 2, 1, 1, 2, 3, 1, 2, 3, 1, 3, 2, 3, 1, 2, 3, 1, 2, 1, 2, 3, 1, 1, 1, 1, 2, 3, 1, 2, 2, 2, 1, 2, 1, 2, 2, 2, 3, 1, 2, 3, 2, 3, 1, 3, 1, 2, 3, 1, 3, 3, 1, 2, 3, 1, 2, 3, 1, 2, 3, 2, 3, 1, 2, 3, 1, 2, 3, 1, 1, 2, 3, 3, 2, 1, 3, 2, 1, 3, 3, 1, 1, 2, 3, 3, 1, 2, 3, 1, 2, 3, 2, 2, 3, 1, 3, 2, 1, 2, 3, 1, 2, 1, 1, 3, 1, 2, 2, 1, 2, 3, 1, 2, 3, 1, 2, 1, 2, 3, 2, 3, 3, 2, 1, 2, 1, 2, 1, 2, 3, 2, 1, 3, 3, 2, 2, 1, 2, 3, 1, 2, 3, 3, 2, 1, 1, 1, 3, 3, 3, 1, 2, 3, 1, 2, 3, 3, 1, 1, 3, 2, 1, 1, 2, 3, 1, 2, 3, 2, 1, 2, 3, 1, 1, 3, 3, 2, 1, 2, 3, 1, 2, 3, 1, 1, 2, 3, 1, 2, 3, 1, 3, 1, 1, 2, 1, 3, 1, 3, 1, 2, 3, 1, 1, 2, 3, 1, 2, 2], \"Freq\": [0.3887385427951813, 0.27767038345336914, 0.333204448223114, 0.9429747462272644, 0.5200516581535339, 0.3065023124217987, 0.6130046248435974, 0.21665167808532715, 0.4333033561706543, 0.3249775171279907, 0.9587739706039429, 0.7252342104911804, 0.241744726896286, 1.0150275230407715, 1.0150604248046875, 0.7975732088088989, 0.1595146358013153, 0.9587186574935913, 0.7836162447929382, 0.5200409293174744, 0.5200494527816772, 0.33126452565193176, 0.49689677357673645, 0.16563226282596588, 0.30642619729042053, 0.6128523945808411, 0.7251973152160645, 0.24173244833946228, 0.9587212800979614, 1.015085220336914, 1.0151214599609375, 0.629433274269104, 0.20981107652187347, 0.8210607767105103, 0.20526519417762756, 1.0151071548461914, 0.7152013182640076, 0.2551300525665283, 0.2551300525665283, 0.5102601051330566, 0.44452187418937683, 0.44452187418937683, 0.1481739580631256, 0.5560919046401978, 0.3707279562950134, 0.6149114370346069, 0.30745571851730347, 0.9481600522994995, 0.3882955312728882, 0.3882955312728882, 0.9587650299072266, 1.01513671875, 0.3787851929664612, 0.3787851929664612, 0.3787851929664612, 0.958782434463501, 0.9587444067001343, 0.7152459025382996, 0.25230175256729126, 0.5046035051345825, 0.25230175256729126, 0.5489014983177185, 0.3659343421459198, 0.7624098062515259, 1.0151071548461914, 0.7151164412498474, 1.0151073932647705, 0.7241289615631104, 0.3620644807815552, 1.0151056051254272, 1.0151008367538452, 0.5200314521789551, 0.21772438287734985, 0.4354487657546997, 0.21772438287734985, 0.7624055743217468, 0.5200215578079224, 0.7151431441307068, 0.942659854888916, 0.11083443462848663, 0.3325033187866211, 0.554172158241272, 0.5032782554626465, 0.5032782554626465, 0.5200051665306091, 0.19040808081626892, 0.5712242722511292, 0.19040808081626892, 0.19149550795555115, 0.3829910159111023, 0.3829910159111023, 0.5114234089851379, 0.227299302816391, 0.227299302816391, 1.0151374340057373, 0.5200225114822388, 0.297863245010376, 0.595726490020752, 0.7833108901977539, 0.42788782715797424, 0.42788782715797424, 0.21394391357898712, 0.9587528705596924, 0.6263722777366638, 0.20879076421260834, 0.20879076421260834, 0.5199854373931885, 1.015120506286621, 0.5838997960090637, 0.29194989800453186, 1.0149732828140259, 0.9587432146072388, 0.7871807217597961, 0.5200143456459045, 0.9587453007698059, 0.5898644328117371, 0.19662146270275116, 0.29493221640586853, 0.520013153553009, 0.7871121764183044, 0.2623707354068756, 0.5200304985046387, 0.21774506568908691, 0.43549013137817383, 0.21774506568908691, 0.7624402046203613, 1.0151070356369019, 0.5200322270393372, 0.8252898454666138, 0.20632246136665344, 1.0149513483047485, 0.37543821334838867, 0.563157320022583, 0.18771910667419434, 0.29993587732315063, 0.5998717546463013, 0.7151360511779785, 0.8552588820457458, 0.5200263261795044, 0.2999323308467865, 0.599864661693573, 0.7624186873435974, 0.39582058787345886, 0.39582058787345886, 0.09895514696836472, 0.25232499837875366, 0.5046499967575073, 0.25232499837875366, 0.9587469100952148, 0.7624109387397766, 0.3344464898109436, 0.501669704914093, 0.1672232449054718, 0.3120061159133911, 0.6240122318267822, 0.7835655212402344, 1.015107274055481, 0.4257492125034332, 0.6386237740516663, 0.9587714672088623, 1.015106439590454, 0.7210574150085449, 0.24035246670246124, 0.520058810710907, 1.0151292085647583, 0.9587429761886597, 0.5200033187866211, 0.5199460387229919, 0.7622402310371399, 1.01510751247406, 0.5796947479248047, 0.28984737396240234, 0.5200003981590271, 0.4447181820869446, 0.2890668213367462, 0.2445949912071228, 0.5200657248497009, 1.015021562576294, 0.9587770700454712, 0.7151159048080444, 0.7150858044624329, 0.5200347900390625, 0.5200653076171875, 0.5200278759002686, 0.4902547597885132, 0.2451273798942566, 0.2451273798942566, 0.5709236860275269, 0.40780264139175415, 0.08156052976846695, 0.520041823387146, 0.9587737917900085, 0.5981068015098572, 0.2990534007549286, 1.015059471130371, 0.9587249159812927, 0.589741587638855, 0.2948707938194275, 0.14743539690971375, 0.22001147270202637, 0.22001147270202637, 0.6600344181060791, 1.0150773525238037, 0.5896300673484802, 0.2948150336742401, 0.14740751683712006, 0.7152562737464905, 0.5837932229042053, 0.29189661145210266, 0.5199311971664429, 1.0150446891784668, 0.3788101077079773, 0.3788101077079773, 0.3788101077079773, 0.304301917552948, 0.304301917552948, 0.304301917552948, 0.7150896191596985, 0.5512127876281738, 0.3674752116203308, 0.1837376058101654, 0.45457184314727783, 0.3409288823604584, 0.11364296078681946, 0.42690619826316833, 0.42690619826316833, 0.7151151895523071, 0.5856388807296753, 0.43922916054725647, 0.7151777148246765, 0.5200003981590271, 0.43451493978500366, 0.6517723798751831, 0.374688059091568, 0.187344029545784, 0.374688059091568, 0.9587535858154297, 0.3765466809272766, 0.3765466809272766, 0.1882733404636383, 0.2508103549480438, 0.7524310946464539, 1.0151020288467407], \"Term\": [\"add\", \"add\", \"add\", \"address\", \"allege\", \"allow\", \"allow\", \"also\", \"also\", \"also\", \"always\", \"announce\", \"announce\", \"app\", \"arrest\", \"ask\", \"ask\", \"asymptomatic\", \"ban\", \"become\", \"bjp\", \"call\", \"call\", \"call\", \"camera\", \"camera\", \"case\", \"case\", \"cash\", \"closed\", \"co\", \"come\", \"come\", \"company\", \"company\", \"conference\", \"corporate\", \"could\", \"could\", \"could\", \"covid\", \"covid\", \"covid\", \"create\", \"create\", \"cricket\", \"cricket\", \"crisis\", \"criticise\", \"criticise\", \"cut\", \"day\", \"decision\", \"decision\", \"decision\", \"design\", \"dollar\", \"domestic\", \"due\", \"due\", \"due\", \"ensure\", \"ensure\", \"enter\", \"event\", \"express\", \"extension\", \"face\", \"face\", \"farm\", \"field\", \"financial\", \"firm\", \"firm\", \"firm\", \"first\", \"floor\", \"food\", \"football\", \"former\", \"former\", \"former\", \"fund\", \"fund\", \"game\", \"go\", \"go\", \"go\", \"good\", \"good\", \"good\", \"government\", \"government\", \"government\", \"great\", \"hacker\", \"help\", \"help\", \"hit\", \"hold\", \"hold\", \"hold\", \"however\", \"include\", \"include\", \"include\", \"infect\", \"instagram\", \"issue\", \"issue\", \"labuschagne\", \"layoff\", \"lead\", \"least\", \"link\", \"lockdown\", \"lockdown\", \"lockdown\", \"majority\", \"make\", \"make\", \"marriage\", \"may\", \"may\", \"may\", \"meeting\", \"member\", \"modi\", \"must\", \"must\", \"never\", \"new\", \"new\", \"new\", \"number\", \"number\", \"offer\", \"oneplus\", \"owaisi\", \"part\", \"part\", \"patient\", \"people\", \"people\", \"people\", \"pick\", \"pick\", \"pick\", \"picture\", \"plasma\", \"play\", \"play\", \"play\", \"pm\", \"pm\", \"point\", \"pose\", \"post\", \"post\", \"price\", \"produce\", \"provide\", \"provide\", \"raise\", \"record\", \"related\", \"relegate\", \"resignation\", \"reveal\", \"risk\", \"run\", \"run\", \"sale\", \"say\", \"say\", \"say\", \"scam\", \"schedule\", \"session\", \"share\", \"shield\", \"single\", \"specific\", \"stadium\", \"start\", \"start\", \"start\", \"state\", \"state\", \"state\", \"steal\", \"storage\", \"strategically\", \"strategically\", \"supply\", \"survey\", \"take\", \"take\", \"take\", \"team\", \"team\", \"team\", \"tennis\", \"test\", \"test\", \"test\", \"testing\", \"thank\", \"thank\", \"thermal\", \"tour\", \"tweet\", \"tweet\", \"tweet\", \"twitter\", \"twitter\", \"twitter\", \"up\", \"urge\", \"urge\", \"urge\", \"use\", \"use\", \"use\", \"user\", \"user\", \"value\", \"video\", \"video\", \"violence\", \"warehouse\", \"website\", \"website\", \"worker\", \"worker\", \"worker\", \"worldwide\", \"would\", \"would\", \"would\", \"year\", \"year\", \"yuvraj\"]}, \"R\": 30, \"lambda.step\": 0.01, \"plot.opts\": {\"xlab\": \"PC1\", \"ylab\": \"PC2\"}, \"topic.order\": [1, 3, 2]};\n",
       "\n",
       "function LDAvis_load_lib(url, callback){\n",
       "  var s = document.createElement('script');\n",
       "  s.src = url;\n",
       "  s.async = true;\n",
       "  s.onreadystatechange = s.onload = callback;\n",
       "  s.onerror = function(){console.warn(\"failed to load library \" + url);};\n",
       "  document.getElementsByTagName(\"head\")[0].appendChild(s);\n",
       "}\n",
       "\n",
       "if(typeof(LDAvis) !== \"undefined\"){\n",
       "   // already loaded: just create the visualization\n",
       "   !function(LDAvis){\n",
       "       new LDAvis(\"#\" + \"ldavis_el1177221192133432325568352512\", ldavis_el1177221192133432325568352512_data);\n",
       "   }(LDAvis);\n",
       "}else if(typeof define === \"function\" && define.amd){\n",
       "   // require.js is available: use it to load d3/LDAvis\n",
       "   require.config({paths: {d3: \"https://cdnjs.cloudflare.com/ajax/libs/d3/3.5.5/d3.min\"}});\n",
       "   require([\"d3\"], function(d3){\n",
       "      window.d3 = d3;\n",
       "      LDAvis_load_lib(\"https://cdn.rawgit.com/bmabey/pyLDAvis/files/ldavis.v1.0.0.js\", function(){\n",
       "        new LDAvis(\"#\" + \"ldavis_el1177221192133432325568352512\", ldavis_el1177221192133432325568352512_data);\n",
       "      });\n",
       "    });\n",
       "}else{\n",
       "    // require.js not available: dynamically load d3 & LDAvis\n",
       "    LDAvis_load_lib(\"https://cdnjs.cloudflare.com/ajax/libs/d3/3.5.5/d3.min.js\", function(){\n",
       "         LDAvis_load_lib(\"https://cdn.rawgit.com/bmabey/pyLDAvis/files/ldavis.v1.0.0.js\", function(){\n",
       "                 new LDAvis(\"#\" + \"ldavis_el1177221192133432325568352512\", ldavis_el1177221192133432325568352512_data);\n",
       "            })\n",
       "         });\n",
       "}\n",
       "</script>"
      ],
      "text/plain": [
       "PreparedData(topic_coordinates=              x         y  topics  cluster       Freq\n",
       "topic                                                \n",
       "0     -0.054640  0.073930       1        1  40.893005\n",
       "2     -0.037893 -0.083423       2        1  31.190470\n",
       "1      0.092533  0.009493       3        1  27.916523, topic_info=              Term      Freq      Total Category  logprob  loglift\n",
       "388           lead  3.000000   3.000000  Default  30.0000  30.0000\n",
       "444         former  9.000000   9.000000  Default  29.0000  29.0000\n",
       "671        address  3.000000   3.000000  Default  28.0000  28.0000\n",
       "546       football  3.000000   3.000000  Default  27.0000  27.0000\n",
       "25            help  6.000000   6.000000  Default  26.0000  26.0000\n",
       "..             ...       ...        ...      ...      ...      ...\n",
       "602      criticise  1.484858   2.575358   Topic3  -5.8075   0.7253\n",
       "791  strategically  1.471265   3.343884   Topic3  -5.8167   0.4549\n",
       "50            firm  1.470867   4.592963   Topic3  -5.8169   0.1373\n",
       "55          people  1.470026  10.105589   Topic3  -5.8175  -0.6519\n",
       "420        twitter  1.470022   3.286210   Topic3  -5.8175   0.4715\n",
       "\n",
       "[201 rows x 6 columns], token_table=      Topic      Freq     Term\n",
       "term                          \n",
       "124       1  0.388739      add\n",
       "124       2  0.277670      add\n",
       "124       3  0.333204      add\n",
       "671       3  0.942975  address\n",
       "651       3  0.520052   allege\n",
       "...     ...       ...      ...\n",
       "256       2  0.376547    would\n",
       "256       3  0.188273    would\n",
       "143       1  0.250810     year\n",
       "143       2  0.752431     year\n",
       "448       2  1.015102   yuvraj\n",
       "\n",
       "[243 rows x 3 columns], R=30, lambda_step=0.01, plot_opts={'xlab': 'PC1', 'ylab': 'PC2'}, topic_order=[1, 3, 2])"
      ]
     },
     "execution_count": 244,
     "metadata": {},
     "output_type": "execute_result"
    }
   ],
   "source": [
    "#Visualize the topics\n",
    "pyLDAvis.enable_notebook()\n",
    "vis=pyLDAvis.gensim.prepare(lda_model,corpus,id2word)\n",
    "vis"
   ]
  },
  {
   "cell_type": "markdown",
   "metadata": {},
   "source": [
    "### How to infer pyLDAvis output\n",
    "\n",
    "Each bubble represents a topic.The larger it is, the more prevalent is that topic\n",
    "A good topic model will have fairly big, non-overlapping bubbles scattered throughout\n",
    "the chart instead of being clustered in one quadrant."
   ]
  },
  {
   "attachments": {},
   "cell_type": "markdown",
   "metadata": {},
   "source": [
    "### Observation\n",
    "\n",
    "What I've observed ism If k=3 (as all news are originally divided into 3 categories), There are few keywords ,which are responsible for categorizing text into 3 categories\n",
    "\n",
    "- Topic 0 : say, add, government, people, state, also, lockdown, use, tweet, former\n",
    "- Topic 1 : say, add, video, people, ask, lockdown, oneplus, number, fund, government\n",
    "- Topic 2 : say, government, add, state, test, former, help, also, come, may\n",
    "\n",
    "So here, we can see k=3 is not sufficient to judge the topic by its context."
   ]
  },
  {
   "cell_type": "markdown",
   "metadata": {},
   "source": [
    "### How to find the optimal number of topics for LDA?\n",
    "Build many LDA models with different values of number of topics(k) and pick the one\n",
    "that gives the highest coherence value"
   ]
  },
  {
   "cell_type": "code",
   "execution_count": 245,
   "metadata": {},
   "outputs": [],
   "source": [
    "def compute_coherence_values(dictionary,corpus,texts,limit,start=2,step=3 ):\n",
    "    \"\"\"\n",
    "    Compute c_v coherence for various number of topics\n",
    "\n",
    "    Parameters:\n",
    "    ----------\n",
    "    dictionary : Gensim dictionary\n",
    "    corpus : Gensim corpus\n",
    "    texts : List of input texts\n",
    "    limit : Max num of topics\n",
    "\n",
    "    Returns:\n",
    "    -------\n",
    "    model_list : List of LDA topic models\n",
    "    coherence_values : Coherence values corresponding to the LDA model with respective number of topics\n",
    "    \"\"\"\n",
    "    coherence_values=[]\n",
    "    model_list=[]\n",
    "    for num_topics in range(start,limit,step):\n",
    "        model=gensim.models.ldamodel.LdaModel(corpus=corpus,\n",
    "                                           id2word=id2word,\n",
    "                                           num_topics=num_topics, \n",
    "                                        )\n",
    "        model_list.append(model)\n",
    "        coherencemodel=CoherenceModel(model=model,texts=texts,dictionary=dictionary,coherence='c_v')\n",
    "        coherence_values.append(coherencemodel.get_coherence())\n",
    "        \n",
    "    return model_list,coherence_values"
   ]
  },
  {
   "cell_type": "code",
   "execution_count": 246,
   "metadata": {},
   "outputs": [],
   "source": [
    "model_list, coherence_values = compute_coherence_values(dictionary=id2word, corpus=corpus, texts=data_lemmatized, start=3, limit=40, step=5)"
   ]
  },
  {
   "cell_type": "code",
   "execution_count": 247,
   "metadata": {},
   "outputs": [
    {
     "data": {
      "image/png": "[encoded data removed]",
      "text/plain": [
       "<Figure size 432x288 with 1 Axes>"
      ]
     },
     "metadata": {
      "needs_background": "light"
     },
     "output_type": "display_data"
    }
   ],
   "source": [
    "#show graph\n",
    "limit=40;start=3;step=5;\n",
    "x=range(start,limit,step)\n",
    "plt.plot(x,coherence_values)\n",
    "plt.xlabel('Num topics')\n",
    "plt.ylabel('Coherence_score')\n",
    "plt.legend(('Coherence values'),loc='best')\n",
    "plt.show()"
   ]
  },
  {
   "cell_type": "code",
   "execution_count": 248,
   "metadata": {},
   "outputs": [
    {
     "name": "stdout",
     "output_type": "stream",
     "text": [
      "Num Topics = 3  has Coherence Value of 0.4222\n",
      "Num Topics = 8  has Coherence Value of 0.4141\n",
      "Num Topics = 13  has Coherence Value of 0.4017\n",
      "Num Topics = 18  has Coherence Value of 0.4457\n",
      "Num Topics = 23  has Coherence Value of 0.4338\n",
      "Num Topics = 28  has Coherence Value of 0.4849\n",
      "Num Topics = 33  has Coherence Value of 0.5419\n",
      "Num Topics = 38  has Coherence Value of 0.5193\n"
     ]
    }
   ],
   "source": [
    "# Print the coherence scores\n",
    "for m, cv in zip(x, coherence_values):\n",
    "    print(\"Num Topics =\", m, \" has Coherence Value of\", round(cv, 4))"
   ]
  },
  {
   "cell_type": "markdown",
   "metadata": {},
   "source": [
    "If the coherence score seems to keep increasing, it's better to pick the model that gave the highest CV before flattening out.\n",
    "\n",
    "So I'll choose the model with 33 topics."
   ]
  },
  {
   "cell_type": "code",
   "execution_count": 253,
   "metadata": {},
   "outputs": [
    {
     "name": "stdout",
     "output_type": "stream",
     "text": [
      "[(32, '0.025*\"government\" + 0.024*\"say\" + 0.023*\"make\" + 0.017*\"video\" + 0.016*\"covid\" + 0.011*\"directly\" + 0.011*\"hit\" + 0.011*\"responsible\" + 0.011*\"part\" + 0.011*\"could\"'), (7, '0.039*\"state\" + 0.020*\"say\" + 0.019*\"government\" + 0.019*\"order\" + 0.016*\"office\" + 0.016*\"people\" + 0.014*\"also\" + 0.013*\"pick\" + 0.013*\"grade\" + 0.013*\"ban\"'), (19, '0.045*\"say\" + 0.029*\"government\" + 0.023*\"run\" + 0.022*\"up\" + 0.019*\"test\" + 0.017*\"indian\" + 0.017*\"take\" + 0.017*\"corporate\" + 0.016*\"due\" + 0.012*\"team\"'), (28, '0.046*\"say\" + 0.030*\"government\" + 0.012*\"conduct\" + 0.012*\"crisis\" + 0.012*\"threat\" + 0.012*\"session\" + 0.012*\"necessary\" + 0.012*\"advance\" + 0.012*\"step\" + 0.012*\"add\"'), (24, '0.034*\"say\" + 0.027*\"state\" + 0.016*\"report\" + 0.015*\"score\" + 0.015*\"asymptomatic\" + 0.014*\"case\" + 0.014*\"add\" + 0.014*\"firm\" + 0.013*\"naked\" + 0.013*\"trainer\"'), (16, '0.036*\"say\" + 0.030*\"get\" + 0.030*\"field\" + 0.022*\"add\" + 0.015*\"coach\" + 0.015*\"great\" + 0.015*\"formative\" + 0.015*\"do\" + 0.015*\"hand\" + 0.015*\"wonder\"'), (1, '0.026*\"schedule\" + 0.024*\"tour\" + 0.023*\"due\" + 0.014*\"return\" + 0.014*\"over\" + 0.013*\"play\" + 0.013*\"say\" + 0.013*\"soon\" + 0.013*\"normality\" + 0.013*\"place\"'), (3, '0.023*\"test\" + 0.021*\"government\" + 0.021*\"case\" + 0.020*\"asymptomatic\" + 0.019*\"lead\" + 0.018*\"add\" + 0.017*\"resignation\" + 0.017*\"say\" + 0.017*\"report\" + 0.013*\"decision\"'), (13, '0.031*\"say\" + 0.023*\"football\" + 0.020*\"face\" + 0.016*\"ask\" + 0.015*\"fight\" + 0.015*\"die\" + 0.015*\"wedding\" + 0.015*\"food\" + 0.015*\"former\" + 0.015*\"hold\"'), (4, '0.055*\"say\" + 0.013*\"go\" + 0.012*\"back\" + 0.011*\"make\" + 0.010*\"sale\" + 0.010*\"chinese\" + 0.010*\"respond\" + 0.010*\"want\" + 0.010*\"letter\" + 0.010*\"government\"'), (29, '0.054*\"say\" + 0.031*\"address\" + 0.026*\"add\" + 0.025*\"lockdown\" + 0.021*\"must\" + 0.021*\"use\" + 0.021*\"testing\" + 0.021*\"specific\" + 0.021*\"pm\" + 0.014*\"test\"'), (10, '0.020*\"patient\" + 0.019*\"plasma\" + 0.018*\"people\" + 0.017*\"test\" + 0.016*\"lead\" + 0.014*\"dynamically\" + 0.014*\"get\" + 0.014*\"strategically\" + 0.014*\"camera\" + 0.013*\"donate\"'), (26, '0.040*\"user\" + 0.026*\"survey\" + 0.026*\"use\" + 0.026*\"scam\" + 0.026*\"say\" + 0.026*\"create\" + 0.026*\"website\" + 0.013*\"good\" + 0.013*\"information\" + 0.013*\"crisis\"'), (17, '0.018*\"oneplus\" + 0.011*\"storage\" + 0.008*\"come\" + 0.008*\"price\" + 0.007*\"smartphone\" + 0.006*\"triple\" + 0.006*\"flagship\" + 0.006*\"late\" + 0.006*\"get\" + 0.006*\"camera\"'), (21, '0.052*\"see\" + 0.031*\"level\" + 0.031*\"test\" + 0.031*\"labuschagne\" + 0.021*\"say\" + 0.021*\"state\" + 0.021*\"number\" + 0.020*\"even\" + 0.016*\"scorer\" + 0.016*\"year\"'), (2, '0.031*\"say\" + 0.028*\"fund\" + 0.026*\"fight\" + 0.018*\"add\" + 0.017*\"donate\" + 0.016*\"social\" + 0.015*\"adenoid\" + 0.015*\"type\" + 0.015*\"disease\" + 0.015*\"positive\"'), (25, '0.030*\"say\" + 0.025*\"face\" + 0.021*\"extension\" + 0.020*\"make\" + 0.018*\"shield\" + 0.016*\"step\" + 0.012*\"weak\" + 0.012*\"covid\" + 0.012*\"avoid\" + 0.012*\"section\"'), (6, '0.038*\"closed\" + 0.038*\"door\" + 0.038*\"fan\" + 0.038*\"tennis\" + 0.038*\"say\" + 0.019*\"resume\" + 0.019*\"recently\" + 0.019*\"number\" + 0.019*\"passion\" + 0.019*\"much\"'), (31, '0.029*\"shield\" + 0.021*\"announce\" + 0.020*\"say\" + 0.018*\"face\" + 0.016*\"step\" + 0.013*\"pay\" + 0.013*\"unveil\" + 0.013*\"force\" + 0.013*\"regard\" + 0.013*\"valuable\"'), (22, '0.034*\"fail\" + 0.034*\"ensure\" + 0.034*\"government\" + 0.025*\"lockdown\" + 0.017*\"follow\" + 0.017*\"claim\" + 0.017*\"issue\" + 0.017*\"west\" + 0.017*\"bengal\" + 0.017*\"completely\"')]\n"
     ]
    }
   ],
   "source": [
    "optimal_model = model_list[6]\n",
    "model_topics = optimal_model.show_topics(formatted=False)\n",
    "print(optimal_model.print_topics(num_words=10))"
   ]
  },
  {
   "cell_type": "markdown",
   "metadata": {},
   "source": [
    "### Finding the dominant topic for each document"
   ]
  },
  {
   "cell_type": "code",
   "execution_count": 254,
   "metadata": {
    "scrolled": true
   },
   "outputs": [
    {
     "data": {
      "text/html": [
       "<div>\n",
       "<style scoped>\n",
       "    .dataframe tbody tr th:only-of-type {\n",
       "        vertical-align: middle;\n",
       "    }\n",
       "\n",
       "    .dataframe tbody tr th {\n",
       "        vertical-align: top;\n",
       "    }\n",
       "\n",
       "    .dataframe thead th {\n",
       "        text-align: right;\n",
       "    }\n",
       "</style>\n",
       "<table border=\"1\" class=\"dataframe\">\n",
       "  <thead>\n",
       "    <tr style=\"text-align: right;\">\n",
       "      <th></th>\n",
       "      <th>Document_No</th>\n",
       "      <th>Dominant_Topic</th>\n",
       "      <th>Topic_Perc_Contrib</th>\n",
       "      <th>Keywords</th>\n",
       "      <th>Text</th>\n",
       "    </tr>\n",
       "  </thead>\n",
       "  <tbody>\n",
       "    <tr>\n",
       "      <th>0</th>\n",
       "      <td>0</td>\n",
       "      <td>9.0</td>\n",
       "      <td>0.9559</td>\n",
       "      <td>oneplus, share, give, new, picture, cut, website, price, come, storage</td>\n",
       "      <td>OnePlus has announced the India pricing for its latest flagship offering, OnePlus 8 series. The OnePlus 8 gets a starting price of ₹41,999 with 6GB RAM+128GB storage, whereas OnePlus 8 Pro will re...</td>\n",
       "    </tr>\n",
       "    <tr>\n",
       "      <th>1</th>\n",
       "      <td>1</td>\n",
       "      <td>32.0</td>\n",
       "      <td>0.9627</td>\n",
       "      <td>government, say, make, video, covid, directly, hit, responsible, part, could</td>\n",
       "      <td>Police in Maharashtra's Dongri arrested two men aged 24 and 19 for allegedly stepping out of their houses and recording a TikTok video. They were also paraded in Bhendi Bazaar area as the two were...</td>\n",
       "    </tr>\n",
       "    <tr>\n",
       "      <th>2</th>\n",
       "      <td>2</td>\n",
       "      <td>10.0</td>\n",
       "      <td>0.9715</td>\n",
       "      <td>patient, plasma, people, test, lead, dynamically, get, strategically, camera, donate</td>\n",
       "      <td>Microsoft, working with a consortium of US-based pharmaceutical firms, will launch a chatbot to encourage recovered COVID-19 patients to donate plasma. The \"Plasmabot\" will help people determine w...</td>\n",
       "    </tr>\n",
       "    <tr>\n",
       "      <th>3</th>\n",
       "      <td>3</td>\n",
       "      <td>26.0</td>\n",
       "      <td>0.9654</td>\n",
       "      <td>user, survey, use, scam, say, create, website, good, information, crisis</td>\n",
       "      <td>Facebook's COVID-19 survey will be available to users worldwide to help researchers predict the spread of the disease. Users will see a link at top of News Feed for the survey, insights from which...</td>\n",
       "    </tr>\n",
       "    <tr>\n",
       "      <th>4</th>\n",
       "      <td>4</td>\n",
       "      <td>4.0</td>\n",
       "      <td>0.9641</td>\n",
       "      <td>say, go, back, make, sale, chinese, respond, want, letter, government</td>\n",
       "      <td>The sale of smartphones, laptops and PCs, considered non-essential goods, will remain suspended through e-commerce channels like Amazon, Flipkart and others until May 3. This comes as the governme...</td>\n",
       "    </tr>\n",
       "  </tbody>\n",
       "</table>\n",
       "</div>"
      ],
      "text/plain": [
       "   Document_No  Dominant_Topic  Topic_Perc_Contrib  \\\n",
       "0            0             9.0              0.9559   \n",
       "1            1            32.0              0.9627   \n",
       "2            2            10.0              0.9715   \n",
       "3            3            26.0              0.9654   \n",
       "4            4             4.0              0.9641   \n",
       "\n",
       "                                                                               Keywords  \\\n",
       "0                oneplus, share, give, new, picture, cut, website, price, come, storage   \n",
       "1          government, say, make, video, covid, directly, hit, responsible, part, could   \n",
       "2  patient, plasma, people, test, lead, dynamically, get, strategically, camera, donate   \n",
       "3              user, survey, use, scam, say, create, website, good, information, crisis   \n",
       "4                 say, go, back, make, sale, chinese, respond, want, letter, government   \n",
       "\n",
       "                                                                                                                                                                                                      Text  \n",
       "0  OnePlus has announced the India pricing for its latest flagship offering, OnePlus 8 series. The OnePlus 8 gets a starting price of ₹41,999 with 6GB RAM+128GB storage, whereas OnePlus 8 Pro will re...  \n",
       "1  Police in Maharashtra's Dongri arrested two men aged 24 and 19 for allegedly stepping out of their houses and recording a TikTok video. They were also paraded in Bhendi Bazaar area as the two were...  \n",
       "2  Microsoft, working with a consortium of US-based pharmaceutical firms, will launch a chatbot to encourage recovered COVID-19 patients to donate plasma. The \"Plasmabot\" will help people determine w...  \n",
       "3  Facebook's COVID-19 survey will be available to users worldwide to help researchers predict the spread of the disease. Users will see a link at top of News Feed for the survey, insights from which...  \n",
       "4  The sale of smartphones, laptops and PCs, considered non-essential goods, will remain suspended through e-commerce channels like Amazon, Flipkart and others until May 3. This comes as the governme...  "
      ]
     },
     "execution_count": 254,
     "metadata": {},
     "output_type": "execute_result"
    }
   ],
   "source": [
    "def format_topics_sentences(ldamodel=lda_model, corpus=corpus, texts=data):\n",
    "    # Init output\n",
    "    sent_topics_df = pd.DataFrame()\n",
    "\n",
    "    # Get main topic in each document\n",
    "    for i, row in enumerate(ldamodel[corpus]):\n",
    "        row = sorted(row, key=lambda x: (x[1]), reverse=True)\n",
    "        # Get the Dominant topic, Perc Contribution and Keywords for each document\n",
    "        for j, (topic_num, prop_topic) in enumerate(row):\n",
    "            if j == 0:  # => dominant topic\n",
    "                wp = ldamodel.show_topic(topic_num)\n",
    "                topic_keywords = \", \".join([word for word, prop in wp])\n",
    "                sent_topics_df = sent_topics_df.append(pd.Series([int(topic_num), round(prop_topic,4), topic_keywords]), ignore_index=True)\n",
    "            else:\n",
    "                break\n",
    "    sent_topics_df.columns = ['Dominant_Topic', 'Perc_Contribution', 'Topic_Keywords']\n",
    "\n",
    "    # Add original text to the end of the output\n",
    "    contents = pd.Series(texts)\n",
    "    sent_topics_df = pd.concat([sent_topics_df, contents], axis=1)\n",
    "    return(sent_topics_df)\n",
    "\n",
    "\n",
    "df_topic_sents_keywords = format_topics_sentences(ldamodel=optimal_model, corpus=corpus, texts=data)\n",
    "#df_topic_sents_keywords = format_topics_sentences(ldamodel=lda_model, corpus=corpus, texts=data)\n",
    "\n",
    "# Format\n",
    "df_dominant_topic = df_topic_sents_keywords.reset_index()\n",
    "df_dominant_topic.columns = ['Document_No', 'Dominant_Topic', 'Topic_Perc_Contrib', 'Keywords', 'Text']\n",
    "\n",
    "# Show\n",
    "df_dominant_topic.to_excel(writer, sheet_name='TopicperDoc_with38topics',index=False,startrow=0,startcol=0)\n",
    "writer.save()\n",
    "df_dominant_topic.head(5)\n",
    "\n"
   ]
  },
  {
   "cell_type": "markdown",
   "metadata": {},
   "source": [
    "### Find the most representative document for each topic\n",
    "\n",
    "Sometimes just the topic keywords may not be enough to make sense of what a topic is about. So, to help with understanding the topic, you can find the documents a given topic has contributed to the most and infer the topic by reading that document."
   ]
  },
  {
   "cell_type": "code",
   "execution_count": 255,
   "metadata": {},
   "outputs": [
    {
     "data": {
      "text/html": [
       "<div>\n",
       "<style scoped>\n",
       "    .dataframe tbody tr th:only-of-type {\n",
       "        vertical-align: middle;\n",
       "    }\n",
       "\n",
       "    .dataframe tbody tr th {\n",
       "        vertical-align: top;\n",
       "    }\n",
       "\n",
       "    .dataframe thead th {\n",
       "        text-align: right;\n",
       "    }\n",
       "</style>\n",
       "<table border=\"1\" class=\"dataframe\">\n",
       "  <thead>\n",
       "    <tr style=\"text-align: right;\">\n",
       "      <th></th>\n",
       "      <th>Topic_Num</th>\n",
       "      <th>Topic_Perc_Contrib</th>\n",
       "      <th>Keywords</th>\n",
       "      <th>Text</th>\n",
       "    </tr>\n",
       "  </thead>\n",
       "  <tbody>\n",
       "    <tr>\n",
       "      <th>0</th>\n",
       "      <td>0.0</td>\n",
       "      <td>0.9654</td>\n",
       "      <td>job, hold, government, allow, stadium, fan, face, belarus, talk, report</td>\n",
       "      <td>Congress on Friday urged central government to hold talks with US government to prevent job losses of Indians holding H-1B visas amid coronavirus pandemic. \"Time for PM (Narendra Modi) to ensure o...</td>\n",
       "    </tr>\n",
       "    <tr>\n",
       "      <th>1</th>\n",
       "      <td>2.0</td>\n",
       "      <td>0.9578</td>\n",
       "      <td>say, fund, fight, add, donate, social, adenoid, type, disease, positive</td>\n",
       "      <td>Rajasthan Chief Minister Ashok Gehlot on Saturday asked Prime Minister Narendra Modi to give the funds donated by the companies and industries in the state to the Rajasthan CM Relief Fund COVID-19...</td>\n",
       "    </tr>\n",
       "    <tr>\n",
       "      <th>2</th>\n",
       "      <td>3.0</td>\n",
       "      <td>0.9515</td>\n",
       "      <td>test, government, case, asymptomatic, lead, add, resignation, say, report, decision</td>\n",
       "      <td>The Supreme Court on Monday held valid Madhya Pradesh Governor Lalji Tandon's decision to order a floor test after the resignation of 22 Congress MLAs. A floor test was necessary as the government...</td>\n",
       "    </tr>\n",
       "    <tr>\n",
       "      <th>3</th>\n",
       "      <td>4.0</td>\n",
       "      <td>0.9641</td>\n",
       "      <td>say, go, back, make, sale, chinese, respond, want, letter, government</td>\n",
       "      <td>The sale of smartphones, laptops and PCs, considered non-essential goods, will remain suspended through e-commerce channels like Amazon, Flipkart and others until May 3. This comes as the governme...</td>\n",
       "    </tr>\n",
       "    <tr>\n",
       "      <th>4</th>\n",
       "      <td>5.0</td>\n",
       "      <td>0.9612</td>\n",
       "      <td>say, add, owaisi, yuvraj, use, thing, criticise, address, deprived, ignore</td>\n",
       "      <td>AIMIM chief Asaduddin Owaisi on Tuesday criticised PM Narendra Modi saying his addresses to the nation \"are things that can be done through a single tweet\". PM Modi has \"ignored plight of a vast m...</td>\n",
       "    </tr>\n",
       "  </tbody>\n",
       "</table>\n",
       "</div>"
      ],
      "text/plain": [
       "   Topic_Num  Topic_Perc_Contrib  \\\n",
       "0        0.0              0.9654   \n",
       "1        2.0              0.9578   \n",
       "2        3.0              0.9515   \n",
       "3        4.0              0.9641   \n",
       "4        5.0              0.9612   \n",
       "\n",
       "                                                                              Keywords  \\\n",
       "0              job, hold, government, allow, stadium, fan, face, belarus, talk, report   \n",
       "1              say, fund, fight, add, donate, social, adenoid, type, disease, positive   \n",
       "2  test, government, case, asymptomatic, lead, add, resignation, say, report, decision   \n",
       "3                say, go, back, make, sale, chinese, respond, want, letter, government   \n",
       "4           say, add, owaisi, yuvraj, use, thing, criticise, address, deprived, ignore   \n",
       "\n",
       "                                                                                                                                                                                                      Text  \n",
       "0  Congress on Friday urged central government to hold talks with US government to prevent job losses of Indians holding H-1B visas amid coronavirus pandemic. \"Time for PM (Narendra Modi) to ensure o...  \n",
       "1  Rajasthan Chief Minister Ashok Gehlot on Saturday asked Prime Minister Narendra Modi to give the funds donated by the companies and industries in the state to the Rajasthan CM Relief Fund COVID-19...  \n",
       "2  The Supreme Court on Monday held valid Madhya Pradesh Governor Lalji Tandon's decision to order a floor test after the resignation of 22 Congress MLAs. A floor test was necessary as the government...  \n",
       "3  The sale of smartphones, laptops and PCs, considered non-essential goods, will remain suspended through e-commerce channels like Amazon, Flipkart and others until May 3. This comes as the governme...  \n",
       "4  AIMIM chief Asaduddin Owaisi on Tuesday criticised PM Narendra Modi saying his addresses to the nation \"are things that can be done through a single tweet\". PM Modi has \"ignored plight of a vast m...  "
      ]
     },
     "execution_count": 255,
     "metadata": {},
     "output_type": "execute_result"
    }
   ],
   "source": [
    "# Group top 5 sentences under each topic\n",
    "sent_topics_sorteddf = pd.DataFrame()\n",
    "\n",
    "sent_topics_outdf_grpd = df_topic_sents_keywords.groupby('Dominant_Topic')\n",
    "\n",
    "for i, grp in sent_topics_outdf_grpd:\n",
    "    sent_topics_sorteddf = pd.concat([sent_topics_sorteddf, \n",
    "                                             grp.sort_values(['Perc_Contribution'], ascending=[0]).head(1)], \n",
    "                                            axis=0)\n",
    "\n",
    "# Reset Index    \n",
    "sent_topics_sorteddf.reset_index(drop=True, inplace=True)\n",
    "\n",
    "# Format\n",
    "sent_topics_sorteddf.columns = ['Topic_Num', \"Topic_Perc_Contrib\", \"Keywords\", \"Text\"]\n",
    "sent_topics_sorteddf.to_excel(writer, sheet_name='TopicperContribution',index=False,startrow=0,startcol=0)\n",
    "writer.save()\n",
    "# Show\n",
    "sent_topics_sorteddf.head()"
   ]
  },
  {
   "cell_type": "markdown",
   "metadata": {},
   "source": [
    "### Topic distribution across documents"
   ]
  },
  {
   "cell_type": "code",
   "execution_count": 257,
   "metadata": {},
   "outputs": [
    {
     "data": {
      "text/html": [
       "<div>\n",
       "<style scoped>\n",
       "    .dataframe tbody tr th:only-of-type {\n",
       "        vertical-align: middle;\n",
       "    }\n",
       "\n",
       "    .dataframe tbody tr th {\n",
       "        vertical-align: top;\n",
       "    }\n",
       "\n",
       "    .dataframe thead th {\n",
       "        text-align: right;\n",
       "    }\n",
       "</style>\n",
       "<table border=\"1\" class=\"dataframe\">\n",
       "  <thead>\n",
       "    <tr style=\"text-align: right;\">\n",
       "      <th></th>\n",
       "      <th>Dominant_Topic</th>\n",
       "      <th>Topic_Keywords</th>\n",
       "      <th>Num_Documents</th>\n",
       "      <th>Perc_Documents</th>\n",
       "    </tr>\n",
       "  </thead>\n",
       "  <tbody>\n",
       "    <tr>\n",
       "      <th>0.0</th>\n",
       "      <td>9.0</td>\n",
       "      <td>oneplus, share, give, new, picture, cut, website, price, come, storage</td>\n",
       "      <td>2.0</td>\n",
       "      <td>0.0267</td>\n",
       "    </tr>\n",
       "    <tr>\n",
       "      <th>1.0</th>\n",
       "      <td>32.0</td>\n",
       "      <td>government, say, make, video, covid, directly, hit, responsible, part, could</td>\n",
       "      <td>NaN</td>\n",
       "      <td>NaN</td>\n",
       "    </tr>\n",
       "    <tr>\n",
       "      <th>2.0</th>\n",
       "      <td>10.0</td>\n",
       "      <td>patient, plasma, people, test, lead, dynamically, get, strategically, camera, donate</td>\n",
       "      <td>2.0</td>\n",
       "      <td>0.0267</td>\n",
       "    </tr>\n",
       "    <tr>\n",
       "      <th>3.0</th>\n",
       "      <td>26.0</td>\n",
       "      <td>user, survey, use, scam, say, create, website, good, information, crisis</td>\n",
       "      <td>1.0</td>\n",
       "      <td>0.0133</td>\n",
       "    </tr>\n",
       "    <tr>\n",
       "      <th>4.0</th>\n",
       "      <td>4.0</td>\n",
       "      <td>say, go, back, make, sale, chinese, respond, want, letter, government</td>\n",
       "      <td>7.0</td>\n",
       "      <td>0.0933</td>\n",
       "    </tr>\n",
       "    <tr>\n",
       "      <th>...</th>\n",
       "      <td>...</td>\n",
       "      <td>...</td>\n",
       "      <td>...</td>\n",
       "      <td>...</td>\n",
       "    </tr>\n",
       "    <tr>\n",
       "      <th>70.0</th>\n",
       "      <td>19.0</td>\n",
       "      <td>say, government, run, up, test, indian, take, corporate, due, team</td>\n",
       "      <td>NaN</td>\n",
       "      <td>NaN</td>\n",
       "    </tr>\n",
       "    <tr>\n",
       "      <th>71.0</th>\n",
       "      <td>3.0</td>\n",
       "      <td>test, government, case, asymptomatic, lead, add, resignation, say, report, decision</td>\n",
       "      <td>NaN</td>\n",
       "      <td>NaN</td>\n",
       "    </tr>\n",
       "    <tr>\n",
       "      <th>72.0</th>\n",
       "      <td>22.0</td>\n",
       "      <td>fail, ensure, government, lockdown, follow, claim, issue, west, bengal, completely</td>\n",
       "      <td>NaN</td>\n",
       "      <td>NaN</td>\n",
       "    </tr>\n",
       "    <tr>\n",
       "      <th>73.0</th>\n",
       "      <td>28.0</td>\n",
       "      <td>say, government, conduct, crisis, threat, session, necessary, advance, step, add</td>\n",
       "      <td>NaN</td>\n",
       "      <td>NaN</td>\n",
       "    </tr>\n",
       "    <tr>\n",
       "      <th>74.0</th>\n",
       "      <td>14.0</td>\n",
       "      <td>market, value, former, group, fund, challenge, raise, also, concern, minister</td>\n",
       "      <td>NaN</td>\n",
       "      <td>NaN</td>\n",
       "    </tr>\n",
       "  </tbody>\n",
       "</table>\n",
       "<p>75 rows × 4 columns</p>\n",
       "</div>"
      ],
      "text/plain": [
       "      Dominant_Topic  \\\n",
       "0.0              9.0   \n",
       "1.0             32.0   \n",
       "2.0             10.0   \n",
       "3.0             26.0   \n",
       "4.0              4.0   \n",
       "...              ...   \n",
       "70.0            19.0   \n",
       "71.0             3.0   \n",
       "72.0            22.0   \n",
       "73.0            28.0   \n",
       "74.0            14.0   \n",
       "\n",
       "                                                                            Topic_Keywords  \\\n",
       "0.0                 oneplus, share, give, new, picture, cut, website, price, come, storage   \n",
       "1.0           government, say, make, video, covid, directly, hit, responsible, part, could   \n",
       "2.0   patient, plasma, people, test, lead, dynamically, get, strategically, camera, donate   \n",
       "3.0               user, survey, use, scam, say, create, website, good, information, crisis   \n",
       "4.0                  say, go, back, make, sale, chinese, respond, want, letter, government   \n",
       "...                                                                                    ...   \n",
       "70.0                    say, government, run, up, test, indian, take, corporate, due, team   \n",
       "71.0   test, government, case, asymptomatic, lead, add, resignation, say, report, decision   \n",
       "72.0    fail, ensure, government, lockdown, follow, claim, issue, west, bengal, completely   \n",
       "73.0      say, government, conduct, crisis, threat, session, necessary, advance, step, add   \n",
       "74.0         market, value, former, group, fund, challenge, raise, also, concern, minister   \n",
       "\n",
       "      Num_Documents  Perc_Documents  \n",
       "0.0             2.0          0.0267  \n",
       "1.0             NaN             NaN  \n",
       "2.0             2.0          0.0267  \n",
       "3.0             1.0          0.0133  \n",
       "4.0             7.0          0.0933  \n",
       "...             ...             ...  \n",
       "70.0            NaN             NaN  \n",
       "71.0            NaN             NaN  \n",
       "72.0            NaN             NaN  \n",
       "73.0            NaN             NaN  \n",
       "74.0            NaN             NaN  \n",
       "\n",
       "[75 rows x 4 columns]"
      ]
     },
     "execution_count": 257,
     "metadata": {},
     "output_type": "execute_result"
    }
   ],
   "source": [
    "# Number of Documents for Each Topic\n",
    "topic_counts = df_topic_sents_keywords['Dominant_Topic'].value_counts()\n",
    "\n",
    "# Percentage of Documents for Each Topic\n",
    "topic_contribution = round(topic_counts/topic_counts.sum(), 4)\n",
    "\n",
    "# Topic Number and Keywords\n",
    "topic_num_keywords = df_topic_sents_keywords[['Dominant_Topic', 'Topic_Keywords']]\n",
    "\n",
    "# Concatenate Column wise\n",
    "df_dominant_topics = pd.concat([topic_num_keywords, topic_counts, topic_contribution], axis=1)\n",
    "\n",
    "# Change Column names\n",
    "df_dominant_topics.columns = ['Dominant_Topic', 'Topic_Keywords', 'Num_Documents', 'Perc_Documents']\n",
    "\n",
    "# Show\n",
    "df_dominant_topics.to_excel(writer, sheet_name='TopicDistribution',index=False,startrow=0,startcol=0)\n",
    "writer.save()\n",
    "writer.close()\n",
    "df_dominant_topics"
   ]
  },
  {
   "cell_type": "markdown",
   "metadata": {},
   "source": [
    "#### References : \n",
    "\n",
    "- https://github.com/priya-dwivedi/Deep-Learning/blob/master/topic_modeling/LDA_Newsgroup.ipynb\n",
    "\n",
    "- https://www.machinelearningplus.com/nlp/topic-modeling-gensim-python/\n",
    "\n",
    "- https://www.machinelearningplus.com/nlp/gensim-tutorial/\n",
    "\n",
    "- https://rare-technologies.com/what-is-topic-coherence/"
   ]
  }
 ],
 "metadata": {
  "colab": {
   "collapsed_sections": [],
   "name": "WebScrapping.ipynb",
   "provenance": [],
   "toc_visible": true
  },
  "kernelspec": {
   "display_name": "Python 3",
   "language": "python",
   "name": "python3"
  },
  "language_info": {
   "codemirror_mode": {
    "name": "ipython",
    "version": 3
   },
   "file_extension": ".py",
   "mimetype": "text/x-python",
   "name": "python",
   "nbconvert_exporter": "python",
   "pygments_lexer": "ipython3",
   "version": "3.8.0"
  }
 },
 "nbformat": 4,
 "nbformat_minor": 1
}
